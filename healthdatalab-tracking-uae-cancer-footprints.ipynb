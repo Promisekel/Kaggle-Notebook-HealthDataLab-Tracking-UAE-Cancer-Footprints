{
 "cells": [
  {
   "cell_type": "markdown",
   "id": "b329f327",
   "metadata": {},
   "source": [
    "# 📊 UAE Cancer Patient Dataset - Notebook\n",
    "\n",
    "**Welcome to this interactive and evolving notebook where we dive deep into an anonymized dataset of cancer patients in the UAE. Through this analysis, we aim to uncover meaningful patterns related to demographics, cancer types, stages, treatment pathways, and outcomes**.\n",
    "\n",
    "In this notebook, you’ll find:\n",
    "\n",
    "📌 Clean and well-commented Exploratory Data Analysis (EDA)\n",
    "\n",
    "📊 Visualizations to make sense of trends in age, gender, cancer types, and treatment timelines\n",
    "\n",
    "💡 Insights that could inform further research or healthcare decision-making\n",
    "\n",
    "Whether you're a researcher, data enthusiast, or just curious — there's something here for you.\n",
    "\n",
    "🔄 Check back regularly! This notebook will be updated frequently with new visualizations, deeper analysis, and predictive modeling!\n",
    "Don't forget to leave feedback or upvote if you find it helpful\n",
    "\n",
    "\n",
    "## 📌 DATA SOURCE INSTRUCTIONS:\n",
    "This notebook intelligently detects whether it's being run on **Kaggle** or **locally (e.g., VSCode, Jupyter)** and loads the dataset accordingly.\n",
    "\n",
    "---\n",
    "\n",
    "### ⚠️ IMPORTANT INSTRUCTIONS for Kaggle Users:\n",
    "\n",
    "If you're using this notebook on **Kaggle**, please make sure to:\n",
    "\n",
    "1. Click the **\"Add data\"** button on the right sidebar.\n",
    "2. In the search bar, type:  \n",
    "   `uae cancer`\n",
    "3. Select and add the dataset titled:  \n",
    "   **`uae-cancer-patient-dataset` by ak0212**\n",
    "\n",
    "> 📁 The notebook is designed to automatically load the dataset if added. Otherwise, it will fail with a \"File not found\" error on Kaggle.\n",
    "\n",
    "---\n",
    "\n",
    "### ✅ Local Setup (VSCode, Jupyter Notebook,Colab)\n",
    "\n",
    "If you're running this notebook **locally**, the dataset will be downloaded automatically using [`kagglehub`](https://pypi.org/project/kagglehub/). Ensure the following:\n",
    "\n",
    "- You have Python installed.\n",
    "- You have installed the `kagglehub` library using:\n",
    "  ```bash\n",
    "  pip install kagglehub \n",
    "  \n",
    "- The command pip install kagglehub will be executed automatically in the next cell.\n",
    "However, if it fails (especially in Jupyter Notebook environments), kindly install it manually from your Bash, Terminal, or Command Prompt:\n"
   ]
  },
  {
   "cell_type": "markdown",
   "id": "6d6b1eea",
   "metadata": {
    "papermill": {
     "duration": 0.009688,
     "end_time": "2025-05-31T09:59:25.321039",
     "exception": false,
     "start_time": "2025-05-31T09:59:25.311351",
     "status": "completed"
    },
    "tags": []
   },
   "source": [
    "## IMPORT LIBRARIES\n",
    "importing the essential libraries for data visualization and configuring for a smooth analysis."
   ]
  },
  {
   "cell_type": "code",
   "execution_count": 2,
   "id": "280422fb",
   "metadata": {},
   "outputs": [],
   "source": [
    "# This Python 3 environment comes with many helpful analytics libraries installed\n",
    "# It is defined by the kaggle/python Docker image: https://github.com/kaggle/docker-python\n",
    "# For example, here's several helpful packages to load\n",
    "import os\n",
    "import math\n",
    "import sys\n",
    "import subprocess\n",
    "import numpy as np # linear algebra\n",
    "import pandas as pd # data processing, CSV file I/O (e.g. pd.read_csv)\n",
    "import matplotlib.pyplot as plt\n",
    "import seaborn as sns\n",
    "\n",
    "# Input data files are available in the read-only \"../input/\" directory\n",
    "# For example, running this (by clicking run or pressing Shift+Enter) will list all files under the input directory\n",
    "\n",
    "#import os\n",
    "#for dirname, _, filenames in os.walk('/kaggle/input'):\n",
    "#   for filename in filenames:\n",
    "#        print(os.path.join(dirname, filename))\n",
    "\n",
    "# You can write up to 20GB to the current directory (/kaggle/working/) that gets preserved as output when you create a version using \"Save & Run All\" \n",
    "# You can also write temporary files to /kaggle/temp/, but they won't be saved outside of the current session"
   ]
  },
  {
   "cell_type": "markdown",
   "id": "1db5be7e",
   "metadata": {
    "papermill": {
     "duration": 0.009096,
     "end_time": "2025-05-31T09:59:27.431784",
     "exception": false,
     "start_time": "2025-05-31T09:59:27.422688",
     "status": "completed"
    },
    "tags": []
   },
   "source": [
    "## Import Dataset\n",
    "UAE Cancer Patient Dataset from kaggle"
   ]
  },
  {
   "cell_type": "code",
   "execution_count": 3,
   "id": "3eb0db76",
   "metadata": {},
   "outputs": [
    {
     "name": "stdout",
     "output_type": "stream",
     "text": [
      "📍 Running Locally (VSCode, Jupyter, etc.)\n",
      "📦 Found CSV file: C:\\Users\\Jupyter\\.cache\\kagglehub\\datasets\\ak0212\\uae-cancer-patient-dataset\\versions\\1\\_cancer_dataset_uae.csv\n",
      "✅ Dataset loaded successfully!\n"
     ]
    }
   ],
   "source": [
    "\n",
    "# ✅ Auto-install kagglehub if not running on Kaggle\n",
    "is_kaggle = \"KAGGLE_KERNEL_RUN_TYPE\" in os.environ\n",
    "print(\"📍 Running in Kaggle\" if is_kaggle else \"📍 Running Locally (VSCode, Jupyter, etc.)\")\n",
    "\n",
    "# 🔄 Install kagglehub locally if needed\n",
    "if not is_kaggle:\n",
    "    try:\n",
    "        import kagglehub\n",
    "    except ImportError:\n",
    "        print(\"🔄 Installing kagglehub...\")\n",
    "        subprocess.check_call([sys.executable, \"-m\", \"pip\", \"install\", \"kagglehub\"])\n",
    "        import kagglehub\n",
    "else:\n",
    "    import kagglehub  # Kaggle should have it pre-installed (or not needed)\n",
    "\n",
    "# 📦 Define dataset source\n",
    "dataset_name = \"ak0212/uae-cancer-patient-dataset\"\n",
    "dataset_dir = None\n",
    "data_path = None\n",
    "\n",
    "if is_kaggle:\n",
    "    dataset_dir = f\"/kaggle/input/uae-cancer-patient-dataset\"\n",
    "else:\n",
    "    try:\n",
    "        dataset_dir = kagglehub.dataset_download(dataset_name)\n",
    "    except Exception as e:\n",
    "        print(\"❌ Error downloading dataset via kagglehub:\", e)\n",
    "        dataset_dir = None\n",
    "\n",
    "# 🔍 Locate the CSV file\n",
    "if dataset_dir and os.path.exists(dataset_dir):\n",
    "    for root, _, files in os.walk(dataset_dir):\n",
    "        for file in files:\n",
    "            if file.endswith(\".csv\"):\n",
    "                data_path = os.path.join(root, file)\n",
    "                print(\"📦 Found CSV file:\", data_path)\n",
    "                break\n",
    "else:\n",
    "    print(\"❌ Dataset directory not found\")\n",
    "\n",
    "# 📊 Load the dataset\n",
    "if data_path:\n",
    "    try:\n",
    "        cancer = pd.read_csv(data_path)\n",
    "        print(\"✅ Dataset loaded successfully!\")\n",
    "    except Exception as e:\n",
    "        print(\"❌ Failed to load dataset:\", e)\n",
    "else:\n",
    "    print(\"❌ No CSV file detected\")\n"
   ]
  },
  {
   "cell_type": "markdown",
   "id": "287bef1b",
   "metadata": {
    "papermill": {
     "duration": 0.008722,
     "end_time": "2025-05-31T09:59:27.573689",
     "exception": false,
     "start_time": "2025-05-31T09:59:27.564967",
     "status": "completed"
    },
    "tags": []
   },
   "source": [
    "# Overview of the Dataset"
   ]
  },
  {
   "cell_type": "code",
   "execution_count": 8,
   "id": "e6e1b246",
   "metadata": {
    "execution": {
     "iopub.execute_input": "2025-05-31T09:59:27.593221Z",
     "iopub.status.busy": "2025-05-31T09:59:27.592878Z",
     "iopub.status.idle": "2025-05-31T09:59:27.631974Z",
     "shell.execute_reply": "2025-05-31T09:59:27.630664Z"
    },
    "papermill": {
     "duration": 0.050851,
     "end_time": "2025-05-31T09:59:27.633665",
     "exception": false,
     "start_time": "2025-05-31T09:59:27.582814",
     "status": "completed"
    },
    "tags": []
   },
   "outputs": [
    {
     "data": {
      "application/vnd.microsoft.datawrangler.viewer.v0+json": {
       "columns": [
        {
         "name": "index",
         "rawType": "int64",
         "type": "integer"
        },
        {
         "name": "Patient_ID",
         "rawType": "object",
         "type": "string"
        },
        {
         "name": "Age",
         "rawType": "int64",
         "type": "integer"
        },
        {
         "name": "Gender",
         "rawType": "object",
         "type": "string"
        },
        {
         "name": "Nationality",
         "rawType": "object",
         "type": "string"
        },
        {
         "name": "Emirate",
         "rawType": "object",
         "type": "string"
        },
        {
         "name": "Diagnosis_Date",
         "rawType": "object",
         "type": "string"
        },
        {
         "name": "Cancer_Type",
         "rawType": "object",
         "type": "string"
        },
        {
         "name": "Cancer_Stage",
         "rawType": "object",
         "type": "string"
        },
        {
         "name": "Treatment_Type",
         "rawType": "object",
         "type": "string"
        },
        {
         "name": "Treatment_Start_Date",
         "rawType": "object",
         "type": "string"
        },
        {
         "name": "Hospital",
         "rawType": "object",
         "type": "string"
        },
        {
         "name": "Primary_Physician",
         "rawType": "object",
         "type": "string"
        },
        {
         "name": "Outcome",
         "rawType": "object",
         "type": "string"
        },
        {
         "name": "Death_Date",
         "rawType": "object",
         "type": "unknown"
        },
        {
         "name": "Cause_of_Death",
         "rawType": "object",
         "type": "unknown"
        },
        {
         "name": "Smoking_Status",
         "rawType": "object",
         "type": "string"
        },
        {
         "name": "Comorbidities",
         "rawType": "object",
         "type": "unknown"
        },
        {
         "name": "Ethnicity",
         "rawType": "object",
         "type": "string"
        },
        {
         "name": "Weight",
         "rawType": "int64",
         "type": "integer"
        },
        {
         "name": "Height",
         "rawType": "int64",
         "type": "integer"
        }
       ],
       "ref": "36c616bd-ff63-47b5-8b57-ff3e45564bc7",
       "rows": [
        [
         "0",
         "PAT000001",
         "69",
         "Female",
         "Emirati",
         "Umm Al Quwain",
         "2020-11-30",
         "Liver",
         "II",
         "Radiation",
         "2020-12-04",
         "Sheikh Khalifa Hospital",
         "Dr. VO41",
         "Recovered",
         null,
         null,
         "Non-Smoker",
         null,
         "European",
         "61",
         "157"
        ],
        [
         "1",
         "PAT000002",
         "32",
         "Male",
         "Emirati",
         "Umm Al Quwain",
         "2015-10-10",
         "Leukemia",
         "III",
         "Surgery",
         "2015-11-05",
         "Dubai Hospital",
         "Dr. SM31",
         "Recovered",
         null,
         null,
         "Smoker",
         null,
         "South Asian",
         "80",
         "175"
        ],
        [
         "2",
         "PAT000003",
         "89",
         "Male",
         "Emirati",
         "Abu Dhabi",
         "2018-02-13",
         "Liver",
         "III",
         "Radiation",
         "2018-08-03",
         "Zayed Military Hospital",
         "Dr. BC7",
         "Under Treatment",
         null,
         null,
         "Non-Smoker",
         null,
         "South Asian",
         "50",
         "175"
        ],
        [
         "3",
         "PAT000004",
         "78",
         "Female",
         "Emirati",
         "Abu Dhabi",
         "2022-02-04",
         "Lung",
         "III",
         "Radiation",
         "2022-03-13",
         "Cleveland Clinic Abu Dhabi",
         "Dr. TC14",
         "Recovered",
         null,
         null,
         "Former Smoker",
         null,
         "African",
         "44",
         "155"
        ],
        [
         "4",
         "PAT000005",
         "38",
         "Female",
         "Emirati",
         "Fujairah",
         "2019-12-03",
         "Pancreatic",
         "II",
         "Chemotherapy",
         "2020-02-29",
         "Sheikh Khalifa Hospital",
         "Dr. YS37",
         "Recovered",
         null,
         null,
         "Former Smoker",
         null,
         "East Asian",
         "101",
         "160"
        ],
        [
         "5",
         "PAT000006",
         "41",
         "Female",
         "Emirati",
         "Abu Dhabi",
         "2015-02-10",
         "Breast",
         "I",
         "Surgery",
         "2015-04-21",
         "Dubai Hospital",
         "Dr. ZL30",
         "Recovered",
         null,
         null,
         "Smoker",
         "Hypertension",
         "European",
         "59",
         "176"
        ],
        [
         "6",
         "PAT000007",
         "20",
         "Male",
         "Emirati",
         "Ras Al Khaimah",
         "2023-02-27",
         "Ovarian",
         "IV",
         "Chemotherapy",
         "2023-05-15",
         "Sheikh Khalifa Hospital",
         "Dr. AL45",
         "Recovered",
         null,
         null,
         "Non-Smoker",
         "Hypertension",
         "Arab",
         "66",
         "155"
        ],
        [
         "7",
         "PAT000008",
         "39",
         "Male",
         "Expatriate",
         "Sharjah",
         "2018-04-05",
         "Breast",
         "I",
         "Surgery",
         "2018-08-10",
         "Sheikh Khalifa Hospital",
         "Dr. IL20",
         "Under Treatment",
         null,
         null,
         "Non-Smoker",
         null,
         "South Asian",
         "27",
         "189"
        ],
        [
         "8",
         "PAT000009",
         "70",
         "Female",
         "Emirati",
         "Umm Al Quwain",
         "2022-12-12",
         "Lung",
         "III",
         "Immunotherapy",
         "2023-05-29",
         "Dubai Hospital",
         "Dr. KH33",
         "Deceased",
         "2024-12-22 00:00:00",
         "Cancer",
         "Non-Smoker",
         null,
         "South Asian",
         "60",
         "162"
        ],
        [
         "9",
         "PAT000010",
         "19",
         "Female",
         "Emirati",
         "Dubai",
         "2018-05-29",
         "Breast",
         "I",
         "Surgery",
         "2018-07-25",
         "Cleveland Clinic Abu Dhabi",
         "Dr. GX45",
         "Recovered",
         null,
         null,
         "Non-Smoker",
         null,
         "East Asian",
         "73",
         "180"
        ],
        [
         "10",
         "PAT000011",
         "47",
         "Male",
         "Emirati",
         "Abu Dhabi",
         "2023-02-21",
         "Prostate",
         "II",
         "Chemotherapy",
         "2023-07-27",
         "Dubai Hospital",
         "Dr. IH48",
         "Under Treatment",
         null,
         null,
         "Former Smoker",
         "Cardiovascular Disease",
         "East Asian",
         "48",
         "173"
        ],
        [
         "11",
         "PAT000012",
         "55",
         "Female",
         "Expatriate",
         "Umm Al Quwain",
         "2015-11-09",
         "Colorectal",
         "III",
         "Radiation",
         "2016-05-05",
         "Zayed Military Hospital",
         "Dr. NS1",
         "Recovered",
         null,
         null,
         "Smoker",
         "Diabetes",
         "European",
         "71",
         "160"
        ],
        [
         "12",
         "PAT000013",
         "19",
         "Female",
         "Expatriate",
         "Ras Al Khaimah",
         "2020-04-14",
         "Lung",
         "II",
         "Surgery",
         "2020-07-18",
         "Zayed Military Hospital",
         "Dr. FY12",
         "Under Treatment",
         null,
         null,
         "Former Smoker",
         null,
         "European",
         "67",
         "166"
        ],
        [
         "13",
         "PAT000014",
         "81",
         "Male",
         "Expatriate",
         "Ras Al Khaimah",
         "2021-11-23",
         "Liver",
         "IV",
         "Radiation",
         "2022-01-24",
         "Cleveland Clinic Abu Dhabi",
         "Dr. FM46",
         "Under Treatment",
         null,
         null,
         "Non-Smoker",
         "Hypertension",
         "South Asian",
         "84",
         "168"
        ],
        [
         "14",
         "PAT000015",
         "77",
         "Female",
         "Emirati",
         "Fujairah",
         "2018-02-28",
         "Ovarian",
         "III",
         "Surgery",
         "2018-03-18",
         "Sheikh Khalifa Hospital",
         "Dr. LT23",
         "Under Treatment",
         null,
         null,
         "Smoker",
         null,
         "African",
         "83",
         "171"
        ],
        [
         "15",
         "PAT000016",
         "38",
         "Female",
         "Emirati",
         "Abu Dhabi",
         "2015-02-17",
         "Colorectal",
         "IV",
         "Chemotherapy",
         "2015-07-21",
         "Cleveland Clinic Abu Dhabi",
         "Dr. WV1",
         "Recovered",
         null,
         null,
         "Smoker",
         "Cardiovascular Disease",
         "Arab",
         "88",
         "174"
        ],
        [
         "16",
         "PAT000017",
         "50",
         "Female",
         "Expatriate",
         "Umm Al Quwain",
         "2015-05-14",
         "Breast",
         "III",
         "Immunotherapy",
         "2015-08-15",
         "Cleveland Clinic Abu Dhabi",
         "Dr. QX39",
         "Recovered",
         null,
         null,
         "Smoker",
         "Hypertension",
         "Arab",
         "82",
         "171"
        ],
        [
         "17",
         "PAT000018",
         "75",
         "Female",
         "Emirati",
         "Umm Al Quwain",
         "2022-01-10",
         "Ovarian",
         "I",
         "Immunotherapy",
         "2022-05-03",
         "Sheikh Khalifa Hospital",
         "Dr. WC13",
         "Deceased",
         "2022-08-01 00:00:00",
         "Cancer",
         "Smoker",
         "Hypertension",
         "South Asian",
         "56",
         "169"
        ],
        [
         "18",
         "PAT000019",
         "39",
         "Female",
         "Emirati",
         "Fujairah",
         "2019-04-29",
         "Leukemia",
         "II",
         "Immunotherapy",
         "2019-06-20",
         "Dubai Hospital",
         "Dr. QD15",
         "Recovered",
         null,
         null,
         "Smoker",
         "Hypertension",
         "East Asian",
         "75",
         "178"
        ],
        [
         "19",
         "PAT000020",
         "66",
         "Male",
         "Expatriate",
         "Umm Al Quwain",
         "2023-05-05",
         "Pancreatic",
         "III",
         "Radiation",
         "2023-08-09",
         "Sheikh Khalifa Hospital",
         "Dr. JX8",
         "Recovered",
         null,
         null,
         "Former Smoker",
         null,
         "South Asian",
         "64",
         "166"
        ],
        [
         "20",
         "PAT000021",
         "76",
         "Male",
         "Emirati",
         "Ajman",
         "2021-06-22",
         "Colorectal",
         "I",
         "Chemotherapy",
         "2021-12-11",
         "Cleveland Clinic Abu Dhabi",
         "Dr. LU7",
         "Recovered",
         null,
         null,
         "Smoker",
         "Diabetes",
         "South Asian",
         "85",
         "160"
        ],
        [
         "21",
         "PAT000022",
         "59",
         "Male",
         "Emirati",
         "Ajman",
         "2020-11-03",
         "Pancreatic",
         "IV",
         "Surgery",
         "2020-11-13",
         "Zayed Military Hospital",
         "Dr. UZ28",
         "Under Treatment",
         null,
         null,
         "Former Smoker",
         null,
         "Arab",
         "67",
         "178"
        ],
        [
         "22",
         "PAT000023",
         "77",
         "Male",
         "Emirati",
         "Ajman",
         "2017-12-07",
         "Pancreatic",
         "III",
         "Chemotherapy",
         "2018-04-05",
         "Dubai Hospital",
         "Dr. FJ33",
         "Under Treatment",
         null,
         null,
         "Former Smoker",
         null,
         "South Asian",
         "72",
         "176"
        ],
        [
         "23",
         "PAT000024",
         "32",
         "Male",
         "Emirati",
         "Abu Dhabi",
         "2023-05-16",
         "Leukemia",
         "III",
         "Surgery",
         "2023-08-28",
         "Dubai Hospital",
         "Dr. PY41",
         "Under Treatment",
         null,
         null,
         "Smoker",
         "Diabetes",
         "South Asian",
         "72",
         "179"
        ],
        [
         "24",
         "PAT000025",
         "79",
         "Male",
         "Emirati",
         "Ras Al Khaimah",
         "2021-12-12",
         "Ovarian",
         "III",
         "Immunotherapy",
         "2021-12-21",
         "Sheikh Khalifa Hospital",
         "Dr. ZK14",
         "Under Treatment",
         null,
         null,
         "Non-Smoker",
         "Hypertension",
         "East Asian",
         "83",
         "171"
        ],
        [
         "25",
         "PAT000026",
         "79",
         "Male",
         "Emirati",
         "Ras Al Khaimah",
         "2020-03-03",
         "Prostate",
         "III",
         "Radiation",
         "2020-05-27",
         "Sheikh Khalifa Hospital",
         "Dr. LL2",
         "Under Treatment",
         null,
         null,
         "Non-Smoker",
         null,
         "African",
         "45",
         "156"
        ],
        [
         "26",
         "PAT000027",
         "64",
         "Male",
         "Expatriate",
         "Dubai",
         "2021-10-07",
         "Leukemia",
         "I",
         "Immunotherapy",
         "2021-10-26",
         "Cleveland Clinic Abu Dhabi",
         "Dr. EU17",
         "Recovered",
         null,
         null,
         "Former Smoker",
         "Diabetes",
         "Arab",
         "71",
         "172"
        ],
        [
         "27",
         "PAT000028",
         "79",
         "Female",
         "Emirati",
         "Umm Al Quwain",
         "2021-08-31",
         "Colorectal",
         "II",
         "Radiation",
         "2022-01-24",
         "Dubai Hospital",
         "Dr. UJ24",
         "Recovered",
         null,
         null,
         "Non-Smoker",
         null,
         "African",
         "77",
         "168"
        ],
        [
         "28",
         "PAT000029",
         "68",
         "Male",
         "Emirati",
         "Ajman",
         "2017-07-14",
         "Colorectal",
         "II",
         "Chemotherapy",
         "2017-10-09",
         "Dubai Hospital",
         "Dr. NP25",
         "Recovered",
         null,
         null,
         "Non-Smoker",
         null,
         "East Asian",
         "66",
         "159"
        ],
        [
         "29",
         "PAT000030",
         "72",
         "Female",
         "Emirati",
         "Abu Dhabi",
         "2015-08-28",
         "Lung",
         "II",
         "Chemotherapy",
         "2016-01-04",
         "Sheikh Khalifa Hospital",
         "Dr. ER35",
         "Recovered",
         null,
         null,
         "Non-Smoker",
         "Hypertension",
         "European",
         "55",
         "176"
        ],
        [
         "30",
         "PAT000031",
         "81",
         "Female",
         "Expatriate",
         "Dubai",
         "2021-04-24",
         "Liver",
         "IV",
         "Radiation",
         "2021-10-08",
         "Sheikh Khalifa Hospital",
         "Dr. UZ49",
         "Recovered",
         null,
         null,
         "Non-Smoker",
         "Diabetes",
         "South Asian",
         "76",
         "171"
        ],
        [
         "31",
         "PAT000032",
         "20",
         "Male",
         "Emirati",
         "Ras Al Khaimah",
         "2015-02-13",
         "Leukemia",
         "I",
         "Chemotherapy",
         "2015-07-08",
         "Zayed Military Hospital",
         "Dr. CV32",
         "Under Treatment",
         null,
         null,
         "Non-Smoker",
         "Diabetes",
         "African",
         "89",
         "177"
        ],
        [
         "32",
         "PAT000033",
         "68",
         "Female",
         "Expatriate",
         "Umm Al Quwain",
         "2018-04-06",
         "Prostate",
         "IV",
         "Immunotherapy",
         "2018-06-26",
         "Cleveland Clinic Abu Dhabi",
         "Dr. XI10",
         "Under Treatment",
         null,
         null,
         "Smoker",
         "Hypertension",
         "South Asian",
         "76",
         "169"
        ],
        [
         "33",
         "PAT000034",
         "24",
         "Female",
         "Expatriate",
         "Umm Al Quwain",
         "2019-12-16",
         "Lung",
         "III",
         "Chemotherapy",
         "2019-12-17",
         "Zayed Military Hospital",
         "Dr. YE48",
         "Under Treatment",
         null,
         null,
         "Non-Smoker",
         null,
         "South Asian",
         "71",
         "178"
        ],
        [
         "34",
         "PAT000035",
         "38",
         "Male",
         "Expatriate",
         "Dubai",
         "2018-04-29",
         "Lung",
         "III",
         "Radiation",
         "2018-06-14",
         "Cleveland Clinic Abu Dhabi",
         "Dr. LY7",
         "Recovered",
         null,
         null,
         "Former Smoker",
         null,
         "Arab",
         "49",
         "175"
        ],
        [
         "35",
         "PAT000036",
         "56",
         "Male",
         "Emirati",
         "Ajman",
         "2016-10-25",
         "Prostate",
         "II",
         "Surgery",
         "2017-04-19",
         "Zayed Military Hospital",
         "Dr. NE1",
         "Under Treatment",
         null,
         null,
         "Smoker",
         "Hypertension",
         "African",
         "99",
         "174"
        ],
        [
         "36",
         "PAT000037",
         "35",
         "Male",
         "Expatriate",
         "Umm Al Quwain",
         "2019-05-05",
         "Lung",
         "III",
         "Chemotherapy",
         "2019-08-31",
         "Dubai Hospital",
         "Dr. NS12",
         "Under Treatment",
         null,
         null,
         "Non-Smoker",
         "Hypertension",
         "European",
         "80",
         "161"
        ],
        [
         "37",
         "PAT000038",
         "21",
         "Male",
         "Emirati",
         "Umm Al Quwain",
         "2024-03-01",
         "Prostate",
         "III",
         "Chemotherapy",
         "2024-07-29",
         "Sheikh Khalifa Hospital",
         "Dr. SE50",
         "Under Treatment",
         null,
         null,
         "Smoker",
         "Diabetes",
         "Arab",
         "81",
         "188"
        ],
        [
         "38",
         "PAT000039",
         "77",
         "Male",
         "Emirati",
         "Umm Al Quwain",
         "2020-01-23",
         "Breast",
         "I",
         "Immunotherapy",
         "2020-03-09",
         "Cleveland Clinic Abu Dhabi",
         "Dr. UQ46",
         "Deceased",
         "2020-03-31 00:00:00",
         "Cancer",
         "Smoker",
         null,
         "South Asian",
         "72",
         "166"
        ],
        [
         "39",
         "PAT000040",
         "31",
         "Female",
         "Emirati",
         "Sharjah",
         "2023-05-13",
         "Lung",
         "III",
         "Radiation",
         "2023-07-30",
         "Dubai Hospital",
         "Dr. CK40",
         "Under Treatment",
         null,
         null,
         "Non-Smoker",
         "Diabetes",
         "African",
         "78",
         "155"
        ],
        [
         "40",
         "PAT000041",
         "26",
         "Female",
         "Expatriate",
         "Ajman",
         "2017-01-23",
         "Colorectal",
         "II",
         "Immunotherapy",
         "2017-05-26",
         "Cleveland Clinic Abu Dhabi",
         "Dr. PK19",
         "Under Treatment",
         null,
         null,
         "Non-Smoker",
         "Cardiovascular Disease",
         "African",
         "94",
         "175"
        ],
        [
         "41",
         "PAT000042",
         "70",
         "Female",
         "Emirati",
         "Ajman",
         "2015-04-15",
         "Breast",
         "III",
         "Surgery",
         "2015-07-12",
         "Dubai Hospital",
         "Dr. ZM46",
         "Under Treatment",
         null,
         null,
         "Non-Smoker",
         "Hypertension",
         "Arab",
         "61",
         "167"
        ],
        [
         "42",
         "PAT000043",
         "19",
         "Male",
         "Expatriate",
         "Abu Dhabi",
         "2023-03-21",
         "Lung",
         "III",
         "Surgery",
         "2023-09-09",
         "Cleveland Clinic Abu Dhabi",
         "Dr. LM20",
         "Under Treatment",
         null,
         null,
         "Non-Smoker",
         null,
         "European",
         "95",
         "179"
        ],
        [
         "43",
         "PAT000044",
         "77",
         "Male",
         "Emirati",
         "Sharjah",
         "2017-07-15",
         "Prostate",
         "III",
         "Chemotherapy",
         "2017-10-04",
         "Sheikh Khalifa Hospital",
         "Dr. BX5",
         "Recovered",
         null,
         null,
         "Former Smoker",
         "Cardiovascular Disease",
         "Arab",
         "88",
         "172"
        ],
        [
         "44",
         "PAT000045",
         "88",
         "Male",
         "Emirati",
         "Umm Al Quwain",
         "2020-03-13",
         "Breast",
         "I",
         "Chemotherapy",
         "2020-04-02",
         "Dubai Hospital",
         "Dr. CM36",
         "Recovered",
         null,
         null,
         "Non-Smoker",
         "Diabetes",
         "European",
         "81",
         "171"
        ],
        [
         "45",
         "PAT000046",
         "61",
         "Male",
         "Expatriate",
         "Fujairah",
         "2018-10-04",
         "Liver",
         "I",
         "Surgery",
         "2019-03-27",
         "Sheikh Khalifa Hospital",
         "Dr. IQ6",
         "Recovered",
         null,
         null,
         "Non-Smoker",
         "Diabetes",
         "Arab",
         "61",
         "165"
        ],
        [
         "46",
         "PAT000047",
         "25",
         "Male",
         "Emirati",
         "Sharjah",
         "2017-08-11",
         "Breast",
         "III",
         "Chemotherapy",
         "2017-09-11",
         "Sheikh Khalifa Hospital",
         "Dr. ZN29",
         "Under Treatment",
         null,
         null,
         "Non-Smoker",
         "Hypertension",
         "African",
         "87",
         "157"
        ],
        [
         "47",
         "PAT000048",
         "64",
         "Female",
         "Expatriate",
         "Sharjah",
         "2019-08-01",
         "Colorectal",
         "II",
         "Surgery",
         "2019-08-19",
         "Dubai Hospital",
         "Dr. LC28",
         "Recovered",
         null,
         null,
         "Smoker",
         null,
         "South Asian",
         "55",
         "170"
        ],
        [
         "48",
         "PAT000049",
         "52",
         "Male",
         "Expatriate",
         "Ras Al Khaimah",
         "2018-09-04",
         "Lung",
         "III",
         "Immunotherapy",
         "2019-01-27",
         "Cleveland Clinic Abu Dhabi",
         "Dr. CN41",
         "Recovered",
         null,
         null,
         "Smoker",
         "Diabetes",
         "European",
         "81",
         "164"
        ],
        [
         "49",
         "PAT000050",
         "53",
         "Female",
         "Emirati",
         "Dubai",
         "2022-07-05",
         "Lung",
         "I",
         "Immunotherapy",
         "2022-07-28",
         "Cleveland Clinic Abu Dhabi",
         "Dr. YZ27",
         "Recovered",
         null,
         null,
         "Non-Smoker",
         null,
         "African",
         "49",
         "165"
        ]
       ],
       "shape": {
        "columns": 20,
        "rows": 10000
       }
      },
      "text/html": [
       "<div>\n",
       "<style scoped>\n",
       "    .dataframe tbody tr th:only-of-type {\n",
       "        vertical-align: middle;\n",
       "    }\n",
       "\n",
       "    .dataframe tbody tr th {\n",
       "        vertical-align: top;\n",
       "    }\n",
       "\n",
       "    .dataframe thead th {\n",
       "        text-align: right;\n",
       "    }\n",
       "</style>\n",
       "<table border=\"1\" class=\"dataframe\">\n",
       "  <thead>\n",
       "    <tr style=\"text-align: right;\">\n",
       "      <th></th>\n",
       "      <th>Patient_ID</th>\n",
       "      <th>Age</th>\n",
       "      <th>Gender</th>\n",
       "      <th>Nationality</th>\n",
       "      <th>Emirate</th>\n",
       "      <th>Diagnosis_Date</th>\n",
       "      <th>Cancer_Type</th>\n",
       "      <th>Cancer_Stage</th>\n",
       "      <th>Treatment_Type</th>\n",
       "      <th>Treatment_Start_Date</th>\n",
       "      <th>Hospital</th>\n",
       "      <th>Primary_Physician</th>\n",
       "      <th>Outcome</th>\n",
       "      <th>Death_Date</th>\n",
       "      <th>Cause_of_Death</th>\n",
       "      <th>Smoking_Status</th>\n",
       "      <th>Comorbidities</th>\n",
       "      <th>Ethnicity</th>\n",
       "      <th>Weight</th>\n",
       "      <th>Height</th>\n",
       "    </tr>\n",
       "  </thead>\n",
       "  <tbody>\n",
       "    <tr>\n",
       "      <th>0</th>\n",
       "      <td>PAT000001</td>\n",
       "      <td>69</td>\n",
       "      <td>Female</td>\n",
       "      <td>Emirati</td>\n",
       "      <td>Umm Al Quwain</td>\n",
       "      <td>2020-11-30</td>\n",
       "      <td>Liver</td>\n",
       "      <td>II</td>\n",
       "      <td>Radiation</td>\n",
       "      <td>2020-12-04</td>\n",
       "      <td>Sheikh Khalifa Hospital</td>\n",
       "      <td>Dr. VO41</td>\n",
       "      <td>Recovered</td>\n",
       "      <td>NaN</td>\n",
       "      <td>NaN</td>\n",
       "      <td>Non-Smoker</td>\n",
       "      <td>NaN</td>\n",
       "      <td>European</td>\n",
       "      <td>61</td>\n",
       "      <td>157</td>\n",
       "    </tr>\n",
       "    <tr>\n",
       "      <th>1</th>\n",
       "      <td>PAT000002</td>\n",
       "      <td>32</td>\n",
       "      <td>Male</td>\n",
       "      <td>Emirati</td>\n",
       "      <td>Umm Al Quwain</td>\n",
       "      <td>2015-10-10</td>\n",
       "      <td>Leukemia</td>\n",
       "      <td>III</td>\n",
       "      <td>Surgery</td>\n",
       "      <td>2015-11-05</td>\n",
       "      <td>Dubai Hospital</td>\n",
       "      <td>Dr. SM31</td>\n",
       "      <td>Recovered</td>\n",
       "      <td>NaN</td>\n",
       "      <td>NaN</td>\n",
       "      <td>Smoker</td>\n",
       "      <td>NaN</td>\n",
       "      <td>South Asian</td>\n",
       "      <td>80</td>\n",
       "      <td>175</td>\n",
       "    </tr>\n",
       "    <tr>\n",
       "      <th>2</th>\n",
       "      <td>PAT000003</td>\n",
       "      <td>89</td>\n",
       "      <td>Male</td>\n",
       "      <td>Emirati</td>\n",
       "      <td>Abu Dhabi</td>\n",
       "      <td>2018-02-13</td>\n",
       "      <td>Liver</td>\n",
       "      <td>III</td>\n",
       "      <td>Radiation</td>\n",
       "      <td>2018-08-03</td>\n",
       "      <td>Zayed Military Hospital</td>\n",
       "      <td>Dr. BC7</td>\n",
       "      <td>Under Treatment</td>\n",
       "      <td>NaN</td>\n",
       "      <td>NaN</td>\n",
       "      <td>Non-Smoker</td>\n",
       "      <td>NaN</td>\n",
       "      <td>South Asian</td>\n",
       "      <td>50</td>\n",
       "      <td>175</td>\n",
       "    </tr>\n",
       "    <tr>\n",
       "      <th>3</th>\n",
       "      <td>PAT000004</td>\n",
       "      <td>78</td>\n",
       "      <td>Female</td>\n",
       "      <td>Emirati</td>\n",
       "      <td>Abu Dhabi</td>\n",
       "      <td>2022-02-04</td>\n",
       "      <td>Lung</td>\n",
       "      <td>III</td>\n",
       "      <td>Radiation</td>\n",
       "      <td>2022-03-13</td>\n",
       "      <td>Cleveland Clinic Abu Dhabi</td>\n",
       "      <td>Dr. TC14</td>\n",
       "      <td>Recovered</td>\n",
       "      <td>NaN</td>\n",
       "      <td>NaN</td>\n",
       "      <td>Former Smoker</td>\n",
       "      <td>NaN</td>\n",
       "      <td>African</td>\n",
       "      <td>44</td>\n",
       "      <td>155</td>\n",
       "    </tr>\n",
       "    <tr>\n",
       "      <th>4</th>\n",
       "      <td>PAT000005</td>\n",
       "      <td>38</td>\n",
       "      <td>Female</td>\n",
       "      <td>Emirati</td>\n",
       "      <td>Fujairah</td>\n",
       "      <td>2019-12-03</td>\n",
       "      <td>Pancreatic</td>\n",
       "      <td>II</td>\n",
       "      <td>Chemotherapy</td>\n",
       "      <td>2020-02-29</td>\n",
       "      <td>Sheikh Khalifa Hospital</td>\n",
       "      <td>Dr. YS37</td>\n",
       "      <td>Recovered</td>\n",
       "      <td>NaN</td>\n",
       "      <td>NaN</td>\n",
       "      <td>Former Smoker</td>\n",
       "      <td>NaN</td>\n",
       "      <td>East Asian</td>\n",
       "      <td>101</td>\n",
       "      <td>160</td>\n",
       "    </tr>\n",
       "    <tr>\n",
       "      <th>...</th>\n",
       "      <td>...</td>\n",
       "      <td>...</td>\n",
       "      <td>...</td>\n",
       "      <td>...</td>\n",
       "      <td>...</td>\n",
       "      <td>...</td>\n",
       "      <td>...</td>\n",
       "      <td>...</td>\n",
       "      <td>...</td>\n",
       "      <td>...</td>\n",
       "      <td>...</td>\n",
       "      <td>...</td>\n",
       "      <td>...</td>\n",
       "      <td>...</td>\n",
       "      <td>...</td>\n",
       "      <td>...</td>\n",
       "      <td>...</td>\n",
       "      <td>...</td>\n",
       "      <td>...</td>\n",
       "      <td>...</td>\n",
       "    </tr>\n",
       "    <tr>\n",
       "      <th>9995</th>\n",
       "      <td>PAT009996</td>\n",
       "      <td>88</td>\n",
       "      <td>Male</td>\n",
       "      <td>Emirati</td>\n",
       "      <td>Ras Al Khaimah</td>\n",
       "      <td>2016-01-21</td>\n",
       "      <td>Ovarian</td>\n",
       "      <td>II</td>\n",
       "      <td>Surgery</td>\n",
       "      <td>2016-04-03</td>\n",
       "      <td>Sheikh Khalifa Hospital</td>\n",
       "      <td>Dr. FJ27</td>\n",
       "      <td>Recovered</td>\n",
       "      <td>NaN</td>\n",
       "      <td>NaN</td>\n",
       "      <td>Smoker</td>\n",
       "      <td>Cardiovascular Disease</td>\n",
       "      <td>European</td>\n",
       "      <td>55</td>\n",
       "      <td>168</td>\n",
       "    </tr>\n",
       "    <tr>\n",
       "      <th>9996</th>\n",
       "      <td>PAT009997</td>\n",
       "      <td>43</td>\n",
       "      <td>Male</td>\n",
       "      <td>Emirati</td>\n",
       "      <td>Sharjah</td>\n",
       "      <td>2018-12-06</td>\n",
       "      <td>Ovarian</td>\n",
       "      <td>III</td>\n",
       "      <td>Radiation</td>\n",
       "      <td>2019-03-23</td>\n",
       "      <td>Cleveland Clinic Abu Dhabi</td>\n",
       "      <td>Dr. JB17</td>\n",
       "      <td>Under Treatment</td>\n",
       "      <td>NaN</td>\n",
       "      <td>NaN</td>\n",
       "      <td>Non-Smoker</td>\n",
       "      <td>Diabetes</td>\n",
       "      <td>African</td>\n",
       "      <td>98</td>\n",
       "      <td>175</td>\n",
       "    </tr>\n",
       "    <tr>\n",
       "      <th>9997</th>\n",
       "      <td>PAT009998</td>\n",
       "      <td>63</td>\n",
       "      <td>Female</td>\n",
       "      <td>Emirati</td>\n",
       "      <td>Sharjah</td>\n",
       "      <td>2016-06-11</td>\n",
       "      <td>Lung</td>\n",
       "      <td>III</td>\n",
       "      <td>Chemotherapy</td>\n",
       "      <td>2016-10-21</td>\n",
       "      <td>Dubai Hospital</td>\n",
       "      <td>Dr. ZG45</td>\n",
       "      <td>Under Treatment</td>\n",
       "      <td>NaN</td>\n",
       "      <td>NaN</td>\n",
       "      <td>Non-Smoker</td>\n",
       "      <td>NaN</td>\n",
       "      <td>East Asian</td>\n",
       "      <td>92</td>\n",
       "      <td>165</td>\n",
       "    </tr>\n",
       "    <tr>\n",
       "      <th>9998</th>\n",
       "      <td>PAT009999</td>\n",
       "      <td>63</td>\n",
       "      <td>Female</td>\n",
       "      <td>Emirati</td>\n",
       "      <td>Abu Dhabi</td>\n",
       "      <td>2018-11-12</td>\n",
       "      <td>Lung</td>\n",
       "      <td>IV</td>\n",
       "      <td>Immunotherapy</td>\n",
       "      <td>2019-02-05</td>\n",
       "      <td>Cleveland Clinic Abu Dhabi</td>\n",
       "      <td>Dr. EL16</td>\n",
       "      <td>Recovered</td>\n",
       "      <td>NaN</td>\n",
       "      <td>NaN</td>\n",
       "      <td>Smoker</td>\n",
       "      <td>Hypertension</td>\n",
       "      <td>European</td>\n",
       "      <td>68</td>\n",
       "      <td>193</td>\n",
       "    </tr>\n",
       "    <tr>\n",
       "      <th>9999</th>\n",
       "      <td>PAT010000</td>\n",
       "      <td>31</td>\n",
       "      <td>Male</td>\n",
       "      <td>Expatriate</td>\n",
       "      <td>Dubai</td>\n",
       "      <td>2017-09-16</td>\n",
       "      <td>Liver</td>\n",
       "      <td>I</td>\n",
       "      <td>Radiation</td>\n",
       "      <td>2017-12-23</td>\n",
       "      <td>Zayed Military Hospital</td>\n",
       "      <td>Dr. SI45</td>\n",
       "      <td>Under Treatment</td>\n",
       "      <td>NaN</td>\n",
       "      <td>NaN</td>\n",
       "      <td>Smoker</td>\n",
       "      <td>Hypertension</td>\n",
       "      <td>East Asian</td>\n",
       "      <td>56</td>\n",
       "      <td>173</td>\n",
       "    </tr>\n",
       "  </tbody>\n",
       "</table>\n",
       "<p>10000 rows × 20 columns</p>\n",
       "</div>"
      ],
      "text/plain": [
       "     Patient_ID  Age  Gender Nationality         Emirate Diagnosis_Date  \\\n",
       "0     PAT000001   69  Female     Emirati   Umm Al Quwain     2020-11-30   \n",
       "1     PAT000002   32    Male     Emirati   Umm Al Quwain     2015-10-10   \n",
       "2     PAT000003   89    Male     Emirati       Abu Dhabi     2018-02-13   \n",
       "3     PAT000004   78  Female     Emirati       Abu Dhabi     2022-02-04   \n",
       "4     PAT000005   38  Female     Emirati        Fujairah     2019-12-03   \n",
       "...         ...  ...     ...         ...             ...            ...   \n",
       "9995  PAT009996   88    Male     Emirati  Ras Al Khaimah     2016-01-21   \n",
       "9996  PAT009997   43    Male     Emirati         Sharjah     2018-12-06   \n",
       "9997  PAT009998   63  Female     Emirati         Sharjah     2016-06-11   \n",
       "9998  PAT009999   63  Female     Emirati       Abu Dhabi     2018-11-12   \n",
       "9999  PAT010000   31    Male  Expatriate           Dubai     2017-09-16   \n",
       "\n",
       "     Cancer_Type Cancer_Stage Treatment_Type Treatment_Start_Date  \\\n",
       "0          Liver           II      Radiation           2020-12-04   \n",
       "1       Leukemia          III        Surgery           2015-11-05   \n",
       "2          Liver          III      Radiation           2018-08-03   \n",
       "3           Lung          III      Radiation           2022-03-13   \n",
       "4     Pancreatic           II   Chemotherapy           2020-02-29   \n",
       "...          ...          ...            ...                  ...   \n",
       "9995     Ovarian           II        Surgery           2016-04-03   \n",
       "9996     Ovarian          III      Radiation           2019-03-23   \n",
       "9997        Lung          III   Chemotherapy           2016-10-21   \n",
       "9998        Lung           IV  Immunotherapy           2019-02-05   \n",
       "9999       Liver            I      Radiation           2017-12-23   \n",
       "\n",
       "                        Hospital Primary_Physician          Outcome  \\\n",
       "0        Sheikh Khalifa Hospital          Dr. VO41        Recovered   \n",
       "1                 Dubai Hospital          Dr. SM31        Recovered   \n",
       "2        Zayed Military Hospital           Dr. BC7  Under Treatment   \n",
       "3     Cleveland Clinic Abu Dhabi          Dr. TC14        Recovered   \n",
       "4        Sheikh Khalifa Hospital          Dr. YS37        Recovered   \n",
       "...                          ...               ...              ...   \n",
       "9995     Sheikh Khalifa Hospital          Dr. FJ27        Recovered   \n",
       "9996  Cleveland Clinic Abu Dhabi          Dr. JB17  Under Treatment   \n",
       "9997              Dubai Hospital          Dr. ZG45  Under Treatment   \n",
       "9998  Cleveland Clinic Abu Dhabi          Dr. EL16        Recovered   \n",
       "9999     Zayed Military Hospital          Dr. SI45  Under Treatment   \n",
       "\n",
       "     Death_Date Cause_of_Death Smoking_Status           Comorbidities  \\\n",
       "0           NaN            NaN     Non-Smoker                     NaN   \n",
       "1           NaN            NaN         Smoker                     NaN   \n",
       "2           NaN            NaN     Non-Smoker                     NaN   \n",
       "3           NaN            NaN  Former Smoker                     NaN   \n",
       "4           NaN            NaN  Former Smoker                     NaN   \n",
       "...         ...            ...            ...                     ...   \n",
       "9995        NaN            NaN         Smoker  Cardiovascular Disease   \n",
       "9996        NaN            NaN     Non-Smoker                Diabetes   \n",
       "9997        NaN            NaN     Non-Smoker                     NaN   \n",
       "9998        NaN            NaN         Smoker            Hypertension   \n",
       "9999        NaN            NaN         Smoker            Hypertension   \n",
       "\n",
       "        Ethnicity  Weight  Height  \n",
       "0        European      61     157  \n",
       "1     South Asian      80     175  \n",
       "2     South Asian      50     175  \n",
       "3         African      44     155  \n",
       "4      East Asian     101     160  \n",
       "...           ...     ...     ...  \n",
       "9995     European      55     168  \n",
       "9996      African      98     175  \n",
       "9997   East Asian      92     165  \n",
       "9998     European      68     193  \n",
       "9999   East Asian      56     173  \n",
       "\n",
       "[10000 rows x 20 columns]"
      ]
     },
     "execution_count": 8,
     "metadata": {},
     "output_type": "execute_result"
    }
   ],
   "source": [
    "#summary of the dataframe\n",
    "cancer"
   ]
  },
  {
   "cell_type": "code",
   "execution_count": 28,
   "id": "cba6b9f5",
   "metadata": {
    "execution": {
     "iopub.execute_input": "2025-05-31T09:59:27.655026Z",
     "iopub.status.busy": "2025-05-31T09:59:27.654310Z",
     "iopub.status.idle": "2025-05-31T09:59:27.688682Z",
     "shell.execute_reply": "2025-05-31T09:59:27.687411Z"
    },
    "papermill": {
     "duration": 0.047989,
     "end_time": "2025-05-31T09:59:27.691432",
     "exception": false,
     "start_time": "2025-05-31T09:59:27.643443",
     "status": "completed"
    },
    "tags": []
   },
   "outputs": [
    {
     "name": "stdout",
     "output_type": "stream",
     "text": [
      "<class 'pandas.core.frame.DataFrame'>\n",
      "RangeIndex: 10000 entries, 0 to 9999\n",
      "Data columns (total 20 columns):\n",
      " #   Column                Non-Null Count  Dtype \n",
      "---  ------                --------------  ----- \n",
      " 0   Patient_ID            10000 non-null  object\n",
      " 1   Age                   10000 non-null  int64 \n",
      " 2   Gender                10000 non-null  object\n",
      " 3   Nationality           10000 non-null  object\n",
      " 4   Emirate               10000 non-null  object\n",
      " 5   Diagnosis_Date        10000 non-null  object\n",
      " 6   Cancer_Type           10000 non-null  object\n",
      " 7   Cancer_Stage          10000 non-null  object\n",
      " 8   Treatment_Type        10000 non-null  object\n",
      " 9   Treatment_Start_Date  10000 non-null  object\n",
      " 10  Hospital              10000 non-null  object\n",
      " 11  Primary_Physician     10000 non-null  object\n",
      " 12  Outcome               10000 non-null  object\n",
      " 13  Death_Date            992 non-null    object\n",
      " 14  Cause_of_Death        992 non-null    object\n",
      " 15  Smoking_Status        10000 non-null  object\n",
      " 16  Comorbidities         5953 non-null   object\n",
      " 17  Ethnicity             10000 non-null  object\n",
      " 18  Weight                10000 non-null  int64 \n",
      " 19  Height                10000 non-null  int64 \n",
      "dtypes: int64(3), object(17)\n",
      "memory usage: 1.5+ MB\n"
     ]
    }
   ],
   "source": [
    "cancer.info()  # Display information about the DataFrame"
   ]
  },
  {
   "cell_type": "code",
   "execution_count": 29,
   "id": "74958529",
   "metadata": {
    "execution": {
     "iopub.execute_input": "2025-05-31T09:59:27.714653Z",
     "iopub.status.busy": "2025-05-31T09:59:27.714074Z",
     "iopub.status.idle": "2025-05-31T09:59:27.719346Z",
     "shell.execute_reply": "2025-05-31T09:59:27.718233Z"
    },
    "papermill": {
     "duration": 0.019236,
     "end_time": "2025-05-31T09:59:27.720898",
     "exception": false,
     "start_time": "2025-05-31T09:59:27.701662",
     "status": "completed"
    },
    "tags": []
   },
   "outputs": [
    {
     "name": "stdout",
     "output_type": "stream",
     "text": [
      "shape (10000, 20)\n"
     ]
    }
   ],
   "source": [
    "print('shape', cancer.shape) # show all total rows and columns in dataset"
   ]
  },
  {
   "cell_type": "code",
   "execution_count": 30,
   "id": "9e7d765f",
   "metadata": {
    "execution": {
     "iopub.execute_input": "2025-05-31T09:59:27.744323Z",
     "iopub.status.busy": "2025-05-31T09:59:27.744003Z",
     "iopub.status.idle": "2025-05-31T09:59:27.762005Z",
     "shell.execute_reply": "2025-05-31T09:59:27.761070Z"
    },
    "papermill": {
     "duration": 0.031963,
     "end_time": "2025-05-31T09:59:27.763715",
     "exception": false,
     "start_time": "2025-05-31T09:59:27.731752",
     "status": "completed"
    },
    "tags": []
   },
   "outputs": [
    {
     "data": {
      "application/vnd.microsoft.datawrangler.viewer.v0+json": {
       "columns": [
        {
         "name": "index",
         "rawType": "object",
         "type": "string"
        },
        {
         "name": "0",
         "rawType": "int64",
         "type": "integer"
        }
       ],
       "ref": "e9f58269-553b-4627-a12d-c47d7ae68cde",
       "rows": [
        [
         "Patient_ID",
         "0"
        ],
        [
         "Age",
         "0"
        ],
        [
         "Gender",
         "0"
        ],
        [
         "Nationality",
         "0"
        ],
        [
         "Emirate",
         "0"
        ],
        [
         "Diagnosis_Date",
         "0"
        ],
        [
         "Cancer_Type",
         "0"
        ],
        [
         "Cancer_Stage",
         "0"
        ],
        [
         "Treatment_Type",
         "0"
        ],
        [
         "Treatment_Start_Date",
         "0"
        ],
        [
         "Hospital",
         "0"
        ],
        [
         "Primary_Physician",
         "0"
        ],
        [
         "Outcome",
         "0"
        ],
        [
         "Smoking_Status",
         "0"
        ],
        [
         "Weight",
         "0"
        ],
        [
         "Ethnicity",
         "0"
        ],
        [
         "Height",
         "0"
        ],
        [
         "Comorbidities",
         "4047"
        ],
        [
         "Cause_of_Death",
         "9008"
        ],
        [
         "Death_Date",
         "9008"
        ]
       ],
       "shape": {
        "columns": 1,
        "rows": 20
       }
      },
      "text/plain": [
       "Patient_ID                 0\n",
       "Age                        0\n",
       "Gender                     0\n",
       "Nationality                0\n",
       "Emirate                    0\n",
       "Diagnosis_Date             0\n",
       "Cancer_Type                0\n",
       "Cancer_Stage               0\n",
       "Treatment_Type             0\n",
       "Treatment_Start_Date       0\n",
       "Hospital                   0\n",
       "Primary_Physician          0\n",
       "Outcome                    0\n",
       "Smoking_Status             0\n",
       "Weight                     0\n",
       "Ethnicity                  0\n",
       "Height                     0\n",
       "Comorbidities           4047\n",
       "Cause_of_Death          9008\n",
       "Death_Date              9008\n",
       "dtype: int64"
      ]
     },
     "execution_count": 30,
     "metadata": {},
     "output_type": "execute_result"
    }
   ],
   "source": [
    "cancer.isna().sum().sort_values(ascending=True)  # Check for missing values"
   ]
  },
  {
   "cell_type": "markdown",
   "id": "764ff1b1",
   "metadata": {
    "papermill": {
     "duration": 0.009933,
     "end_time": "2025-05-31T09:59:27.783733",
     "exception": false,
     "start_time": "2025-05-31T09:59:27.773800",
     "status": "completed"
    },
    "tags": []
   },
   "source": [
    "**Comorbidities (other related health condition)** has 4047 missing values, which suggests that not all patient exibited other health conditions so we keep that column intack \n",
    "\n",
    "**Cause_of_Death** and **Death_Date** have 9008 missing values, likely because not all patients have deceased, which might explain the missing data for these fields.\n",
    "\n",
    "Other columns such as **Patient_ID**, **Age**, **Gender**, **Cancer_Type**, etc., have no missing values, indicating the dataset is mostly complete in these columns."
   ]
  },
  {
   "cell_type": "code",
   "execution_count": 31,
   "id": "7ebe3496",
   "metadata": {
    "execution": {
     "iopub.execute_input": "2025-05-31T09:59:27.805912Z",
     "iopub.status.busy": "2025-05-31T09:59:27.805214Z",
     "iopub.status.idle": "2025-05-31T09:59:27.826484Z",
     "shell.execute_reply": "2025-05-31T09:59:27.825506Z"
    },
    "papermill": {
     "duration": 0.034384,
     "end_time": "2025-05-31T09:59:27.828175",
     "exception": false,
     "start_time": "2025-05-31T09:59:27.793791",
     "status": "completed"
    },
    "tags": []
   },
   "outputs": [
    {
     "data": {
      "text/plain": [
       "np.int64(0)"
      ]
     },
     "execution_count": 31,
     "metadata": {},
     "output_type": "execute_result"
    }
   ],
   "source": [
    "cancer.duplicated().sum() # Check for duplicate rows"
   ]
  },
  {
   "cell_type": "markdown",
   "id": "2aea07fe",
   "metadata": {
    "papermill": {
     "duration": 0.010122,
     "end_time": "2025-05-31T09:59:27.848223",
     "exception": false,
     "start_time": "2025-05-31T09:59:27.838101",
     "status": "completed"
    },
    "tags": []
   },
   "source": [
    "From the dataset no row is duplicated (0) so no duplicates to drop"
   ]
  },
  {
   "cell_type": "code",
   "execution_count": 32,
   "id": "a69824ef",
   "metadata": {
    "execution": {
     "iopub.execute_input": "2025-05-31T09:59:27.870775Z",
     "iopub.status.busy": "2025-05-31T09:59:27.870103Z",
     "iopub.status.idle": "2025-05-31T09:59:27.900308Z",
     "shell.execute_reply": "2025-05-31T09:59:27.898926Z"
    },
    "papermill": {
     "duration": 0.043725,
     "end_time": "2025-05-31T09:59:27.902621",
     "exception": false,
     "start_time": "2025-05-31T09:59:27.858896",
     "status": "completed"
    },
    "tags": []
   },
   "outputs": [
    {
     "data": {
      "application/vnd.microsoft.datawrangler.viewer.v0+json": {
       "columns": [
        {
         "name": "index",
         "rawType": "object",
         "type": "string"
        },
        {
         "name": "Age",
         "rawType": "float64",
         "type": "float"
        },
        {
         "name": "Weight",
         "rawType": "float64",
         "type": "float"
        },
        {
         "name": "Height",
         "rawType": "float64",
         "type": "float"
        }
       ],
       "ref": "00ccf233-4256-4b2e-a88e-851452a81d6a",
       "rows": [
        [
         "count",
         "10000.0",
         "10000.0",
         "10000.0"
        ],
        [
         "mean",
         "53.5397",
         "69.55",
         "169.3475"
        ],
        [
         "std",
         "20.757324263041614",
         "14.933338557069078",
         "10.070118394460309"
        ],
        [
         "min",
         "18.0",
         "18.0",
         "131.0"
        ],
        [
         "25%",
         "36.0",
         "60.0",
         "163.0"
        ],
        [
         "50%",
         "53.0",
         "70.0",
         "169.0"
        ],
        [
         "75%",
         "72.0",
         "80.0",
         "176.0"
        ],
        [
         "max",
         "89.0",
         "122.0",
         "208.0"
        ]
       ],
       "shape": {
        "columns": 3,
        "rows": 8
       }
      },
      "text/html": [
       "<div>\n",
       "<style scoped>\n",
       "    .dataframe tbody tr th:only-of-type {\n",
       "        vertical-align: middle;\n",
       "    }\n",
       "\n",
       "    .dataframe tbody tr th {\n",
       "        vertical-align: top;\n",
       "    }\n",
       "\n",
       "    .dataframe thead th {\n",
       "        text-align: right;\n",
       "    }\n",
       "</style>\n",
       "<table border=\"1\" class=\"dataframe\">\n",
       "  <thead>\n",
       "    <tr style=\"text-align: right;\">\n",
       "      <th></th>\n",
       "      <th>Age</th>\n",
       "      <th>Weight</th>\n",
       "      <th>Height</th>\n",
       "    </tr>\n",
       "  </thead>\n",
       "  <tbody>\n",
       "    <tr>\n",
       "      <th>count</th>\n",
       "      <td>10000.000000</td>\n",
       "      <td>10000.000000</td>\n",
       "      <td>10000.000000</td>\n",
       "    </tr>\n",
       "    <tr>\n",
       "      <th>mean</th>\n",
       "      <td>53.539700</td>\n",
       "      <td>69.550000</td>\n",
       "      <td>169.347500</td>\n",
       "    </tr>\n",
       "    <tr>\n",
       "      <th>std</th>\n",
       "      <td>20.757324</td>\n",
       "      <td>14.933339</td>\n",
       "      <td>10.070118</td>\n",
       "    </tr>\n",
       "    <tr>\n",
       "      <th>min</th>\n",
       "      <td>18.000000</td>\n",
       "      <td>18.000000</td>\n",
       "      <td>131.000000</td>\n",
       "    </tr>\n",
       "    <tr>\n",
       "      <th>25%</th>\n",
       "      <td>36.000000</td>\n",
       "      <td>60.000000</td>\n",
       "      <td>163.000000</td>\n",
       "    </tr>\n",
       "    <tr>\n",
       "      <th>50%</th>\n",
       "      <td>53.000000</td>\n",
       "      <td>70.000000</td>\n",
       "      <td>169.000000</td>\n",
       "    </tr>\n",
       "    <tr>\n",
       "      <th>75%</th>\n",
       "      <td>72.000000</td>\n",
       "      <td>80.000000</td>\n",
       "      <td>176.000000</td>\n",
       "    </tr>\n",
       "    <tr>\n",
       "      <th>max</th>\n",
       "      <td>89.000000</td>\n",
       "      <td>122.000000</td>\n",
       "      <td>208.000000</td>\n",
       "    </tr>\n",
       "  </tbody>\n",
       "</table>\n",
       "</div>"
      ],
      "text/plain": [
       "                Age        Weight        Height\n",
       "count  10000.000000  10000.000000  10000.000000\n",
       "mean      53.539700     69.550000    169.347500\n",
       "std       20.757324     14.933339     10.070118\n",
       "min       18.000000     18.000000    131.000000\n",
       "25%       36.000000     60.000000    163.000000\n",
       "50%       53.000000     70.000000    169.000000\n",
       "75%       72.000000     80.000000    176.000000\n",
       "max       89.000000    122.000000    208.000000"
      ]
     },
     "execution_count": 32,
     "metadata": {},
     "output_type": "execute_result"
    }
   ],
   "source": [
    "cancer.describe() # Get descriptive statistics of columns with numeric columns"
   ]
  },
  {
   "cell_type": "markdown",
   "id": "b7831fdc",
   "metadata": {
    "papermill": {
     "duration": 0.011365,
     "end_time": "2025-05-31T09:59:27.925367",
     "exception": false,
     "start_time": "2025-05-31T09:59:27.914002",
     "status": "completed"
    },
    "tags": []
   },
   "source": [
    "## Descriptive Statistics\n",
    "\n",
    "This will help us better understand the distribution, central tendency, and spread of the data.\n",
    "\n",
    "**For Age**: The mean gives us the average age of the patients in the dataset. \n",
    "The std tells us how much the ages vary around the mean. \n",
    "The min and max will show us the range of ages.\n",
    "The percentiles will help identify if the data is skewed (e.g., if the median is significantly lower or higher than the mean).\n",
    "\n",
    "**For Weight**: The mean weight will help gauge the typical body weight of the individuals in the sample\n",
    "The std will tell us if there’s significant variation in the weights. \n",
    "The percentiles will reveal whether there are any extreme weight values (outliers).\n",
    "\n",
    "**For Height**: Similar to Weight, mean will help us know the average height,\n",
    "Percentiles can show if there's any skewness in the data distribution (e.g., if most patients are around a certain height).\n"
   ]
  },
  {
   "cell_type": "markdown",
   "id": "6468a1ab",
   "metadata": {
    "papermill": {
     "duration": 0.01088,
     "end_time": "2025-05-31T09:59:27.946841",
     "exception": false,
     "start_time": "2025-05-31T09:59:27.935961",
     "status": "completed"
    },
    "tags": []
   },
   "source": [
    "## Visualizing distribution for numerical columns"
   ]
  },
  {
   "cell_type": "markdown",
   "id": "7d59e515",
   "metadata": {
    "papermill": {
     "duration": 0.010835,
     "end_time": "2025-05-31T09:59:28.042752",
     "exception": false,
     "start_time": "2025-05-31T09:59:28.031917",
     "status": "completed"
    },
    "tags": []
   },
   "source": [
    "# Histograms for Age, weight and Height"
   ]
  },
  {
   "cell_type": "code",
   "execution_count": 33,
   "id": "66b26717",
   "metadata": {},
   "outputs": [
    {
     "data": {
      "image/png": "[encoded data removed]",
      "text/plain": [
       "<Figure size 1500x500 with 3 Axes>"
      ]
     },
     "metadata": {},
     "output_type": "display_data"
    }
   ],
   "source": [
    "# Replace inf values and drop NaNs\n",
    "cancer = cancer.replace([np.inf, -np.inf], np.nan).dropna()\n",
    "\n",
    "# Identify numerical columns\n",
    "numerical_cols = cancer.select_dtypes(include=['float64', 'int64']).columns\n",
    "\n",
    "# Set up the plot grid\n",
    "num_cols = len(numerical_cols)\n",
    "rows = math.ceil(num_cols / 3)\n",
    "plt.figure(figsize=(15, 5 * rows))\n",
    "\n",
    "# Loop through each numerical column and plot a histogram\n",
    "for i, col in enumerate(numerical_cols, 1):\n",
    "    plt.subplot(rows, 3, i)\n",
    "    sns.histplot(cancer[col], kde=True, bins=20, color='blue')\n",
    "    plt.title(f'{col} Distribution')\n",
    "    plt.xlabel(col)\n",
    "    plt.ylabel('Frequency')\n",
    "\n",
    "plt.tight_layout()\n",
    "plt.show()"
   ]
  },
  {
   "cell_type": "markdown",
   "id": "2c1ede4d",
   "metadata": {
    "papermill": {
     "duration": 0.011224,
     "end_time": "2025-05-31T09:59:29.176524",
     "exception": false,
     "start_time": "2025-05-31T09:59:29.165300",
     "status": "completed"
    },
    "tags": []
   },
   "source": [
    "# Boxplots for Age, weight and Height"
   ]
  },
  {
   "cell_type": "code",
   "execution_count": 34,
   "id": "65fa6484",
   "metadata": {
    "execution": {
     "iopub.execute_input": "2025-05-31T09:59:29.202034Z",
     "iopub.status.busy": "2025-05-31T09:59:29.201707Z",
     "iopub.status.idle": "2025-05-31T09:59:29.569238Z",
     "shell.execute_reply": "2025-05-31T09:59:29.568260Z"
    },
    "papermill": {
     "duration": 0.38253,
     "end_time": "2025-05-31T09:59:29.571052",
     "exception": false,
     "start_time": "2025-05-31T09:59:29.188522",
     "status": "completed"
    },
    "tags": []
   },
   "outputs": [
    {
     "data": {
      "image/png": "[encoded data removed]",
      "text/plain": [
       "<Figure size 1200x800 with 3 Axes>"
      ]
     },
     "metadata": {},
     "output_type": "display_data"
    }
   ],
   "source": [
    "# Plot boxplots for numerical columns to detect outliers\n",
    "plt.figure(figsize=(12, 8))\n",
    "\n",
    "# Loop through each numerical column and plot a boxplot\n",
    "for i, col in enumerate(numerical_cols, 1):\n",
    "    plt.subplot(3, 3, i)\n",
    "    sns.boxplot(data=cancer, x=col, color='orange')\n",
    "    plt.title(f'{col} Boxplot')\n",
    "    plt.xlabel(col)\n",
    "\n",
    "plt.tight_layout()\n",
    "plt.show()\n"
   ]
  },
  {
   "cell_type": "markdown",
   "id": "9499ed78",
   "metadata": {
    "papermill": {
     "duration": 0.011452,
     "end_time": "2025-05-31T09:59:29.594679",
     "exception": false,
     "start_time": "2025-05-31T09:59:29.583227",
     "status": "completed"
    },
    "tags": []
   },
   "source": [
    "# Plotting Correlation Heatmap for Age, weight and Height"
   ]
  },
  {
   "cell_type": "code",
   "execution_count": 35,
   "id": "b4109372",
   "metadata": {
    "execution": {
     "iopub.execute_input": "2025-05-31T09:59:29.619792Z",
     "iopub.status.busy": "2025-05-31T09:59:29.619443Z",
     "iopub.status.idle": "2025-05-31T09:59:29.843002Z",
     "shell.execute_reply": "2025-05-31T09:59:29.841810Z"
    },
    "papermill": {
     "duration": 0.238402,
     "end_time": "2025-05-31T09:59:29.844657",
     "exception": false,
     "start_time": "2025-05-31T09:59:29.606255",
     "status": "completed"
    },
    "tags": []
   },
   "outputs": [
    {
     "data": {
      "image/png": "[encoded data removed]",
      "text/plain": [
       "<Figure size 1200x800 with 2 Axes>"
      ]
     },
     "metadata": {},
     "output_type": "display_data"
    }
   ],
   "source": [
    "# Select numerical columns from the DataFrame\n",
    "numerical_cols = cancer.select_dtypes(include=['float64', 'int64'])\n",
    "\n",
    "# Compute the correlation matrix for the numerical columns\n",
    "correlation_matrix = numerical_cols.corr()\n",
    "\n",
    "# Plot the correlation heatmap\n",
    "plt.figure(figsize=(12, 8))\n",
    "sns.heatmap(correlation_matrix, annot=True, cmap='coolwarm', fmt='.2f', linewidths=0.5)\n",
    "plt.title('Correlation Heatmap')\n",
    "plt.show()\n"
   ]
  },
  {
   "cell_type": "markdown",
   "id": "dca82d04",
   "metadata": {
    "papermill": {
     "duration": 0.011734,
     "end_time": "2025-05-31T09:59:29.868905",
     "exception": false,
     "start_time": "2025-05-31T09:59:29.857171",
     "status": "completed"
    },
    "tags": []
   },
   "source": [
    "Summary of Visuals \n",
    "Histograms will give us a clear view of how each numerical feature is distributed (normal, skewed, etc.).\n",
    "\n",
    "Boxplots will help us identify potential outliers in the data.\n",
    "\n",
    "Correlation analysis will help us understand how numerical features relate to each other, highlighting any strong or weak correlations."
   ]
  },
  {
   "cell_type": "code",
   "execution_count": 36,
   "id": "703d75f0",
   "metadata": {
    "execution": {
     "iopub.execute_input": "2025-05-31T09:59:29.895517Z",
     "iopub.status.busy": "2025-05-31T09:59:29.895059Z",
     "iopub.status.idle": "2025-05-31T09:59:30.140857Z",
     "shell.execute_reply": "2025-05-31T09:59:30.139891Z"
    },
    "papermill": {
     "duration": 0.261543,
     "end_time": "2025-05-31T09:59:30.142672",
     "exception": false,
     "start_time": "2025-05-31T09:59:29.881129",
     "status": "completed"
    },
    "tags": []
   },
   "outputs": [
    {
     "data": {
      "text/plain": [
       "array(['71-80years', '51-60years', '>80years', '61-70years', '<20years',\n",
       "       '41-50years', '31-40years', '21-30years'], dtype=object)"
      ]
     },
     "execution_count": 36,
     "metadata": {},
     "output_type": "execute_result"
    },
    {
     "data": {
      "image/png": "[encoded data removed]",
      "text/plain": [
       "<Figure size 800x500 with 1 Axes>"
      ]
     },
     "metadata": {},
     "output_type": "display_data"
    }
   ],
   "source": [
    "# Here we categorize our age \n",
    "#function to categorize Age\n",
    "def categorize_Age(agegrp):\n",
    "    if pd.isna(agegrp):\n",
    "        return 'Unknown'\n",
    "    elif agegrp < 20:\n",
    "        return '<20years'\n",
    "    elif 21 <= agegrp <= 30:\n",
    "        return '21-30years'\n",
    "    elif 31 <= agegrp <= 40:\n",
    "        return '31-40years'\n",
    "    elif 41 <= agegrp <= 50:\n",
    "        return '41-50years'\n",
    "    elif 51 <= agegrp <= 60:\n",
    "        return '51-60years'\n",
    "    elif 61 <= agegrp <= 70:\n",
    "        return '61-70years'\n",
    "    elif 71 <= agegrp <= 80:\n",
    "        return '71-80years'\n",
    "    else:\n",
    "        return '>80years'\n",
    "\n",
    "# Apply the function and create a new column\n",
    "cancer['Age_Group'] = cancer['Age'].apply(categorize_Age)\n",
    "\n",
    "# Sort the 'Age_Group' column and pass the sorted order to the countplot\n",
    "sorted_age_groups = cancer['Age_Group'].value_counts().sort_values().index\n",
    "\n",
    "#visualize\n",
    "plt.figure(figsize=(8, 5))\n",
    "sns.countplot(data=cancer, x='Age_Group', order=sorted_age_groups, palette='Set2')\n",
    "plt.xticks(rotation=45)\n",
    "plt.title('Age Group Distribution')\n",
    "\n",
    "# View the result\n",
    "cancer['Age_Group'].unique()"
   ]
  },
  {
   "cell_type": "code",
   "execution_count": 37,
   "id": "0daa3d57",
   "metadata": {
    "execution": {
     "iopub.execute_input": "2025-05-31T09:59:30.171539Z",
     "iopub.status.busy": "2025-05-31T09:59:30.171056Z",
     "iopub.status.idle": "2025-05-31T09:59:30.177877Z",
     "shell.execute_reply": "2025-05-31T09:59:30.176950Z"
    },
    "papermill": {
     "duration": 0.022667,
     "end_time": "2025-05-31T09:59:30.179547",
     "exception": false,
     "start_time": "2025-05-31T09:59:30.156880",
     "status": "completed"
    },
    "tags": []
   },
   "outputs": [
    {
     "data": {
      "text/plain": [
       "array(['Female', 'Male', 'Other'], dtype=object)"
      ]
     },
     "execution_count": 37,
     "metadata": {},
     "output_type": "execute_result"
    }
   ],
   "source": [
    "#Gender distribution\n",
    "cancer['Gender'].unique()"
   ]
  },
  {
   "cell_type": "code",
   "execution_count": 38,
   "id": "9c513ef1",
   "metadata": {
    "execution": {
     "iopub.execute_input": "2025-05-31T09:59:30.207746Z",
     "iopub.status.busy": "2025-05-31T09:59:30.207409Z",
     "iopub.status.idle": "2025-05-31T09:59:30.216530Z",
     "shell.execute_reply": "2025-05-31T09:59:30.215548Z"
    },
    "papermill": {
     "duration": 0.024773,
     "end_time": "2025-05-31T09:59:30.217983",
     "exception": false,
     "start_time": "2025-05-31T09:59:30.193210",
     "status": "completed"
    },
    "tags": []
   },
   "outputs": [
    {
     "data": {
      "application/vnd.microsoft.datawrangler.viewer.v0+json": {
       "columns": [
        {
         "name": "Gender",
         "rawType": "object",
         "type": "string"
        },
        {
         "name": "proportion",
         "rawType": "float64",
         "type": "float"
        }
       ],
       "ref": "8e101a74-9265-4a22-85af-203c5b6117d9",
       "rows": [
        [
         "Male",
         "50.08"
        ],
        [
         "Female",
         "48.57"
        ],
        [
         "Other",
         "1.35"
        ]
       ],
       "shape": {
        "columns": 1,
        "rows": 3
       }
      },
      "text/plain": [
       "Gender\n",
       "Male      50.08\n",
       "Female    48.57\n",
       "Other      1.35\n",
       "Name: proportion, dtype: float64"
      ]
     },
     "execution_count": 38,
     "metadata": {},
     "output_type": "execute_result"
    }
   ],
   "source": [
    "cancer['Gender'].value_counts(normalize=True).mul(100).round(2) #Check the percentage distibution of gender to 2 decimal places"
   ]
  },
  {
   "cell_type": "code",
   "execution_count": 39,
   "id": "7da86203",
   "metadata": {
    "execution": {
     "iopub.execute_input": "2025-05-31T09:59:30.246642Z",
     "iopub.status.busy": "2025-05-31T09:59:30.246155Z",
     "iopub.status.idle": "2025-05-31T09:59:30.411873Z",
     "shell.execute_reply": "2025-05-31T09:59:30.410974Z"
    },
    "papermill": {
     "duration": 0.181726,
     "end_time": "2025-05-31T09:59:30.413531",
     "exception": false,
     "start_time": "2025-05-31T09:59:30.231805",
     "status": "completed"
    },
    "tags": []
   },
   "outputs": [
    {
     "data": {
      "image/png": "[encoded data removed]",
      "text/plain": [
       "<Figure size 800x600 with 1 Axes>"
      ]
     },
     "metadata": {},
     "output_type": "display_data"
    }
   ],
   "source": [
    "#Visualize gender distribution\n",
    "plt.figure(figsize=(8,6))\n",
    "sns.countplot(data=cancer, x='Gender', palette='Set3')\n",
    "plt.bar_label(plt.gca().containers[0])  # Add count labels to bars\n",
    "plt.xlabel('Gender')  # Optional: Add axis labels for clarity\n",
    "plt.ylabel('Count')\n",
    "plt.title('Gender Distribution in Cancer Dataset')\n",
    "sns.set_style(\"whitegrid\")\n",
    "plt.show() \n"
   ]
  },
  {
   "cell_type": "markdown",
   "id": "920cc6c6",
   "metadata": {
    "papermill": {
     "duration": 0.014817,
     "end_time": "2025-05-31T09:59:30.443315",
     "exception": false,
     "start_time": "2025-05-31T09:59:30.428498",
     "status": "completed"
    },
    "tags": []
   },
   "source": [
    "Exploring ethnicity"
   ]
  },
  {
   "cell_type": "code",
   "execution_count": 40,
   "id": "dc1f4924",
   "metadata": {
    "execution": {
     "iopub.execute_input": "2025-05-31T09:59:30.477627Z",
     "iopub.status.busy": "2025-05-31T09:59:30.477303Z",
     "iopub.status.idle": "2025-05-31T09:59:30.689719Z",
     "shell.execute_reply": "2025-05-31T09:59:30.688485Z"
    },
    "papermill": {
     "duration": 0.230432,
     "end_time": "2025-05-31T09:59:30.691434",
     "exception": false,
     "start_time": "2025-05-31T09:59:30.461002",
     "status": "completed"
    },
    "tags": []
   },
   "outputs": [
    {
     "data": {
      "image/png": "[encoded data removed]",
      "text/plain": [
       "<Figure size 800x600 with 1 Axes>"
      ]
     },
     "metadata": {},
     "output_type": "display_data"
    }
   ],
   "source": [
    "#Visualize nationality distribution\n",
    "plt.figure(figsize=(8,6))\n",
    "sns.countplot(data=cancer, x='Nationality', palette='pastel')\n",
    "plt.bar_label(plt.gca().containers[0])\n",
    "plt.xlabel('Nationality')\n",
    "plt.ylabel('Count')\n",
    "plt.title('Distribution of Nationality in Cancer Dataset')\n",
    "plt.xticks(rotation=45)  # rotates x-axis labels if they overlap\n",
    "plt.tight_layout()       # ensures layout fits well\n",
    "plt.show() \n"
   ]
  },
  {
   "cell_type": "code",
   "execution_count": 41,
   "id": "76b6df59",
   "metadata": {
    "execution": {
     "iopub.execute_input": "2025-05-31T09:59:30.726238Z",
     "iopub.status.busy": "2025-05-31T09:59:30.725933Z",
     "iopub.status.idle": "2025-05-31T09:59:31.053470Z",
     "shell.execute_reply": "2025-05-31T09:59:31.052493Z"
    },
    "papermill": {
     "duration": 0.347531,
     "end_time": "2025-05-31T09:59:31.055239",
     "exception": false,
     "start_time": "2025-05-31T09:59:30.707708",
     "status": "completed"
    },
    "tags": []
   },
   "outputs": [
    {
     "data": {
      "image/png": "[encoded data removed]",
      "text/plain": [
       "<Figure size 1000x600 with 1 Axes>"
      ]
     },
     "metadata": {},
     "output_type": "display_data"
    }
   ],
   "source": [
    "#Visualize Ethnicity distribution\n",
    "# Sort ethnicity values by ascending frequency\n",
    "sort_ethnicity = cancer['Ethnicity'].value_counts(ascending=True).index\n",
    "\n",
    "plt.figure(figsize=(10, 6))\n",
    "sns.countplot(\n",
    "    data=cancer[cancer['Ethnicity'].notnull()],  # this line helps avoids plotting NaN\n",
    "    y='Ethnicity',\n",
    "    order=sort_ethnicity,\n",
    "    palette='Set1'\n",
    ")\n",
    "plt.title('Ethnicity Distribution')\n",
    "plt.xlabel('Count')\n",
    "plt.ylabel('Ethnicity')\n",
    "plt.bar_label(plt.gca().containers[0], label_type='edge', fontsize=9, padding=3, color='black')\n",
    "plt.tight_layout()\n",
    "plt.show()\n",
    "\n"
   ]
  },
  {
   "cell_type": "code",
   "execution_count": 42,
   "id": "7b9cb53e",
   "metadata": {
    "execution": {
     "iopub.execute_input": "2025-05-31T09:59:31.093894Z",
     "iopub.status.busy": "2025-05-31T09:59:31.093601Z",
     "iopub.status.idle": "2025-05-31T09:59:31.449663Z",
     "shell.execute_reply": "2025-05-31T09:59:31.448347Z"
    },
    "papermill": {
     "duration": 0.37809,
     "end_time": "2025-05-31T09:59:31.452030",
     "exception": false,
     "start_time": "2025-05-31T09:59:31.073940",
     "status": "completed"
    },
    "tags": []
   },
   "outputs": [
    {
     "data": {
      "image/png": "[encoded data removed]",
      "text/plain": [
       "<Figure size 1000x600 with 1 Axes>"
      ]
     },
     "metadata": {},
     "output_type": "display_data"
    }
   ],
   "source": [
    "#Cancer type distribution\n",
    "\n",
    "#1. sort cancer type ascending order\n",
    "# Visualize cancer type in descending order\n",
    "sort_cancer_Type = cancer['Cancer_Type'].value_counts().sort_values(ascending=False).index\n",
    "\n",
    "plt.figure(figsize=(10, 6))\n",
    "sns.countplot(data=cancer, y='Cancer_Type', order=sort_cancer_Type, palette=\"muted\")\n",
    "plt.title('Cancer Type Distribution')\n",
    "plt.xlabel('Count')\n",
    "plt.ylabel('Cancer Type')\n",
    "plt.bar_label(plt.gca().containers[0])\n",
    "plt.tight_layout()\n",
    "plt.show()\n"
   ]
  },
  {
   "cell_type": "code",
   "execution_count": 43,
   "id": "42ed2cdf",
   "metadata": {
    "execution": {
     "iopub.execute_input": "2025-05-31T09:59:31.490510Z",
     "iopub.status.busy": "2025-05-31T09:59:31.490171Z",
     "iopub.status.idle": "2025-05-31T09:59:32.006707Z",
     "shell.execute_reply": "2025-05-31T09:59:32.005821Z"
    },
    "papermill": {
     "duration": 0.537167,
     "end_time": "2025-05-31T09:59:32.008206",
     "exception": false,
     "start_time": "2025-05-31T09:59:31.471039",
     "status": "completed"
    },
    "tags": []
   },
   "outputs": [
    {
     "data": {
      "image/png": "[encoded data removed]",
      "text/plain": [
       "<Figure size 1200x600 with 1 Axes>"
      ]
     },
     "metadata": {},
     "output_type": "display_data"
    }
   ],
   "source": [
    "#Distribution of top 10 cancer type by gender\n",
    "plt.figure(figsize=(12, 6))\n",
    "sns.countplot(\n",
    "    data=cancer,\n",
    "    x='Cancer_Type',\n",
    "    hue='Gender',\n",
    "    order=cancer['Cancer_Type'].value_counts().index[:10],\n",
    "    palette='muted'\n",
    ")\n",
    "plt.title('Top 10 Cancer Types by Gender')\n",
    "plt.xlabel('Cancer Type')\n",
    "plt.ylabel('Count')\n",
    "plt.xticks(rotation=45)\n",
    "\n",
    "# Add labels to each bar\n",
    "for container in plt.gca().containers:\n",
    "    plt.bar_label(container, label_type='edge', fontsize=10, padding=3, color='black')\n",
    "\n",
    "plt.legend(title='Gender')\n",
    "plt.tight_layout()\n",
    "plt.show()\n",
    "\n"
   ]
  },
  {
   "cell_type": "markdown",
   "id": "0766acd5",
   "metadata": {
    "papermill": {
     "duration": 0.017796,
     "end_time": "2025-05-31T09:59:32.045224",
     "exception": false,
     "start_time": "2025-05-31T09:59:32.027428",
     "status": "completed"
    },
    "tags": []
   },
   "source": [
    "#Some cancer types are sex-specific, meaning only one biological sex can typically develop them:\n",
    "\n",
    "\n",
    "**Cancer Type\tExpected Gender**\n",
    "\n",
    "Ovarian\tFemale only\n",
    "\n",
    "Prostate\tMale only\n",
    "\n",
    "Breast\tMostly Female (but Males can have it too, rarely)\n",
    "\n",
    "But based on the plot:\n",
    "\n",
    "Males are showing up with Ovarian cancer\n",
    "\n",
    "Females are showing up with Prostate cancer\n",
    "\n",
    "Ovarian cancer, which is exclusive to individuals assigned female at birth, appears in male and 'Other' gender categories.\n",
    "\n",
    "Similarly, prostate cancer, which is male-specific, is also recorded under female and 'Other' categories.\n",
    "\n",
    "These inconsistencies suggest potential data entry errors, misclassification, or anomalies introduced during data aggregation. As a result:\n",
    "\n",
    "These entries do not align with clinical realities \n",
    "\n",
    "For integrity and accuracy, we will either exclude or correct these records when appropriate, or flag them for sensitivity testing in modeling stages.\n",
    "\n",
    "**Why this matters**:\n",
    "Accurate gender-specific disease labeling is essential, especially for machine learning models. Ignoring such inconsistencies can introduce bias, reduce model performance, and mislead interpretations, particularly in clinical and public health decision-making."
   ]
  },
  {
   "cell_type": "code",
   "execution_count": 44,
   "id": "dde68bc4",
   "metadata": {
    "execution": {
     "iopub.execute_input": "2025-05-31T09:59:32.083636Z",
     "iopub.status.busy": "2025-05-31T09:59:32.083296Z",
     "iopub.status.idle": "2025-05-31T09:59:32.106115Z",
     "shell.execute_reply": "2025-05-31T09:59:32.105232Z"
    },
    "papermill": {
     "duration": 0.044157,
     "end_time": "2025-05-31T09:59:32.107760",
     "exception": false,
     "start_time": "2025-05-31T09:59:32.063603",
     "status": "completed"
    },
    "tags": []
   },
   "outputs": [
    {
     "data": {
      "application/vnd.microsoft.datawrangler.viewer.v0+json": {
       "columns": [
        {
         "name": "Cancer_Type",
         "rawType": "object",
         "type": "string"
        },
        {
         "name": "Female",
         "rawType": "int64",
         "type": "integer"
        },
        {
         "name": "Male",
         "rawType": "int64",
         "type": "integer"
        },
        {
         "name": "Other",
         "rawType": "int64",
         "type": "integer"
        }
       ],
       "ref": "403148b8-a139-4f4a-a71f-faec4e437f78",
       "rows": [
        [
         "Ovarian",
         "35",
         "44",
         "0"
        ],
        [
         "Prostate",
         "27",
         "37",
         "1"
        ]
       ],
       "shape": {
        "columns": 3,
        "rows": 2
       }
      },
      "text/html": [
       "<div>\n",
       "<style scoped>\n",
       "    .dataframe tbody tr th:only-of-type {\n",
       "        vertical-align: middle;\n",
       "    }\n",
       "\n",
       "    .dataframe tbody tr th {\n",
       "        vertical-align: top;\n",
       "    }\n",
       "\n",
       "    .dataframe thead th {\n",
       "        text-align: right;\n",
       "    }\n",
       "</style>\n",
       "<table border=\"1\" class=\"dataframe\">\n",
       "  <thead>\n",
       "    <tr style=\"text-align: right;\">\n",
       "      <th>Gender</th>\n",
       "      <th>Female</th>\n",
       "      <th>Male</th>\n",
       "      <th>Other</th>\n",
       "    </tr>\n",
       "    <tr>\n",
       "      <th>Cancer_Type</th>\n",
       "      <th></th>\n",
       "      <th></th>\n",
       "      <th></th>\n",
       "    </tr>\n",
       "  </thead>\n",
       "  <tbody>\n",
       "    <tr>\n",
       "      <th>Ovarian</th>\n",
       "      <td>35</td>\n",
       "      <td>44</td>\n",
       "      <td>0</td>\n",
       "    </tr>\n",
       "    <tr>\n",
       "      <th>Prostate</th>\n",
       "      <td>27</td>\n",
       "      <td>37</td>\n",
       "      <td>1</td>\n",
       "    </tr>\n",
       "  </tbody>\n",
       "</table>\n",
       "</div>"
      ],
      "text/plain": [
       "Gender       Female  Male  Other\n",
       "Cancer_Type                     \n",
       "Ovarian          35    44      0\n",
       "Prostate         27    37      1"
      ]
     },
     "execution_count": 44,
     "metadata": {},
     "output_type": "execute_result"
    }
   ],
   "source": [
    "# Lets see proportions by Gender and Cancer_Type\n",
    "gender_cancer_check = cancer.groupby(['Cancer_Type', 'Gender']).size().unstack(fill_value=0)\n",
    "gender_cancer_check.loc[[\"Ovarian\", \"Prostate\"]]"
   ]
  },
  {
   "cell_type": "markdown",
   "id": "45da7aea",
   "metadata": {
    "papermill": {
     "duration": 0.01816,
     "end_time": "2025-05-31T09:59:32.144949",
     "exception": false,
     "start_time": "2025-05-31T09:59:32.126789",
     "status": "completed"
    },
    "tags": []
   },
   "source": [
    "**Objective**\n",
    "\n",
    "We want to remove or correct biologically implausible rows—like:\n",
    "\n",
    "Males listed with ovarian cancer.\n",
    "\n",
    "Females listed with prostate cancer.\n",
    "\n",
    "*Check unique combinations of Gender and Cancer_Type.*\n",
    "\n",
    "Identify mismatches: like \"Ovarian\" with \"Male\".\n",
    "\n",
    "Flag or filter those rows.\n",
    "\n",
    "Optionally: log them for record keeping.\n",
    "\n",
    "Drop or fix them"
   ]
  },
  {
   "cell_type": "code",
   "execution_count": 45,
   "id": "50265c35",
   "metadata": {
    "execution": {
     "iopub.execute_input": "2025-05-31T09:59:32.184232Z",
     "iopub.status.busy": "2025-05-31T09:59:32.183933Z",
     "iopub.status.idle": "2025-05-31T09:59:32.229680Z",
     "shell.execute_reply": "2025-05-31T09:59:32.228631Z"
    },
    "papermill": {
     "duration": 0.067217,
     "end_time": "2025-05-31T09:59:32.231216",
     "exception": false,
     "start_time": "2025-05-31T09:59:32.163999",
     "status": "completed"
    },
    "tags": []
   },
   "outputs": [
    {
     "name": "stdout",
     "output_type": "stream",
     "text": [
      "Invalid gender-cancer type combinations found:\n",
      "      Patient_ID  Gender Cancer_Type\n",
      "167   PAT000168  Female    Prostate\n",
      "275   PAT000276  Female    Prostate\n",
      "378   PAT000379    Male     Ovarian\n",
      "430   PAT000431  Female    Prostate\n",
      "509   PAT000510  Female    Prostate\n",
      "...         ...     ...         ...\n",
      "9165  PAT009166  Female    Prostate\n",
      "9481  PAT009482    Male     Ovarian\n",
      "9613  PAT009614    Male     Ovarian\n",
      "9860  PAT009861    Male     Ovarian\n",
      "9888  PAT009889    Male     Ovarian\n",
      "\n",
      "[71 rows x 3 columns]\n"
     ]
    },
    {
     "data": {
      "application/vnd.microsoft.datawrangler.viewer.v0+json": {
       "columns": [
        {
         "name": "index",
         "rawType": "int64",
         "type": "integer"
        },
        {
         "name": "0",
         "rawType": "bool",
         "type": "boolean"
        }
       ],
       "ref": "a1ba1896-2dc0-4a2f-bde9-d66892544554",
       "rows": [
        [
         "17",
         "False"
        ],
        [
         "54",
         "False"
        ],
        [
         "67",
         "False"
        ],
        [
         "85",
         "False"
        ],
        [
         "91",
         "False"
        ],
        [
         "111",
         "False"
        ],
        [
         "127",
         "False"
        ],
        [
         "154",
         "False"
        ],
        [
         "165",
         "False"
        ],
        [
         "167",
         "False"
        ],
        [
         "170",
         "False"
        ],
        [
         "193",
         "False"
        ],
        [
         "196",
         "False"
        ],
        [
         "226",
         "False"
        ],
        [
         "245",
         "False"
        ],
        [
         "261",
         "False"
        ],
        [
         "275",
         "False"
        ],
        [
         "326",
         "False"
        ],
        [
         "329",
         "False"
        ],
        [
         "331",
         "False"
        ],
        [
         "333",
         "False"
        ],
        [
         "335",
         "False"
        ],
        [
         "345",
         "False"
        ],
        [
         "360",
         "False"
        ],
        [
         "364",
         "False"
        ],
        [
         "369",
         "False"
        ],
        [
         "378",
         "True"
        ],
        [
         "379",
         "False"
        ],
        [
         "395",
         "False"
        ],
        [
         "401",
         "False"
        ],
        [
         "408",
         "False"
        ],
        [
         "416",
         "False"
        ],
        [
         "426",
         "False"
        ],
        [
         "430",
         "False"
        ],
        [
         "431",
         "False"
        ],
        [
         "435",
         "False"
        ],
        [
         "465",
         "False"
        ],
        [
         "475",
         "False"
        ],
        [
         "497",
         "False"
        ],
        [
         "498",
         "False"
        ],
        [
         "503",
         "False"
        ],
        [
         "509",
         "False"
        ],
        [
         "544",
         "False"
        ],
        [
         "557",
         "True"
        ],
        [
         "561",
         "False"
        ],
        [
         "562",
         "False"
        ],
        [
         "585",
         "False"
        ],
        [
         "586",
         "False"
        ],
        [
         "609",
         "False"
        ],
        [
         "634",
         "False"
        ]
       ],
       "shape": {
        "columns": 1,
        "rows": 593
       }
      },
      "text/plain": [
       "17      False\n",
       "54      False\n",
       "67      False\n",
       "85      False\n",
       "91      False\n",
       "        ...  \n",
       "9958    False\n",
       "9964    False\n",
       "9979    False\n",
       "9982    False\n",
       "9991    False\n",
       "Length: 593, dtype: bool"
      ]
     },
     "execution_count": 45,
     "metadata": {},
     "output_type": "execute_result"
    }
   ],
   "source": [
    "# Step 1: Remove biologically incorrect entries\n",
    "# Define conditions that indicate incorrect rows\n",
    "condition_male_with_ovarian = (cancer['Gender'].str.lower() == 'male') & (cancer['Cancer_Type'].str.lower().str.contains('ovarian')) # standadize gender in lower case in ovarian cancer type\n",
    "# Note: Using str.contains() to check for any mention of \"ovarian\" in Cancer_Type\n",
    "# This is useful if there are variations like \"Ovarian Carcinoma\", etc.\n",
    "condition_female_with_prostate = (cancer['Gender'].str.lower() == 'female') & (cancer['Cancer_Type'].str.lower().str.contains('prostate'))\n",
    "\n",
    "# Combine them into one mask\n",
    "invalid_rows = cancer[condition_male_with_ovarian | condition_female_with_prostate]\n",
    "\n",
    "# u can preview invalid entries before dropping\n",
    "print(\"Invalid gender-cancer type combinations found:\\n\", invalid_rows[['Patient_ID', 'Gender', 'Cancer_Type']])\n",
    "\n",
    "# Now drop them from the original dataset\n",
    "cancer_v2 = cancer[~(condition_male_with_ovarian | condition_female_with_prostate)]\n",
    "\n",
    "# Confirm drop\n",
    "#print(f\"\\nDropped {len(can) - len(df_cleaned)} rows. New dataset shape: {df_cleaned.shape}\")\n",
    "cancer_v2[['Gender','Cancer_Type']] \n",
    "condition_male_with_ovarian2 = (cancer['Gender'].str.lower() == 'male') & (cancer['Cancer_Type'].str.lower().str.contains('ovarian'))\n",
    "condition_male_with_ovarian2"
   ]
  },
  {
   "cell_type": "code",
   "execution_count": 46,
   "id": "1aac0aec",
   "metadata": {
    "execution": {
     "iopub.execute_input": "2025-05-31T09:59:32.270554Z",
     "iopub.status.busy": "2025-05-31T09:59:32.270195Z",
     "iopub.status.idle": "2025-05-31T09:59:32.669588Z",
     "shell.execute_reply": "2025-05-31T09:59:32.668306Z"
    },
    "papermill": {
     "duration": 0.421132,
     "end_time": "2025-05-31T09:59:32.671434",
     "exception": false,
     "start_time": "2025-05-31T09:59:32.250302",
     "status": "completed"
    },
    "tags": []
   },
   "outputs": [
    {
     "data": {
      "image/png": "[encoded data removed]",
      "text/plain": [
       "<Figure size 1200x1000 with 1 Axes>"
      ]
     },
     "metadata": {},
     "output_type": "display_data"
    }
   ],
   "source": [
    "# This code visualizes the distribution of the top 10 most common cancer types in the `cancer_v2` dataset,\n",
    "# broken down by gender. It uses a countplot with a colorblind-friendly palette for accessibility.\n",
    "# The x-axis labels are rotated for better readability.\n",
    "# Bar labels showing exact counts are added to the edge of each bar for clarity.\n",
    "\n",
    "plt.figure(figsize=(12,10))  # Set the figure size\n",
    "sns.countplot(\n",
    "    data=cancer_v2,\n",
    "    x='Cancer_Type',\n",
    "    hue='Gender',\n",
    "    order=cancer_v2['Cancer_Type'].value_counts().index[:10],  # Show only the top 10 cancer types\n",
    "    palette='colorblind'  # Use a colorblind-friendly palette\n",
    ")\n",
    "plt.xticks(rotation=45)  # Rotate x-axis labels for readability\n",
    "plt.xlabel('Cancer Type')  \n",
    "plt.ylabel('Count')       \n",
    "\n",
    "# Add count labels to each bar\n",
    "for container in plt.gca().containers:\n",
    "    plt.bar_label(container, label_type='edge', fontsize=10, padding=3, color='black')\n",
    "\n",
    "plt.show()  \n"
   ]
  },
  {
   "cell_type": "markdown",
   "id": "d256ef6a",
   "metadata": {
    "papermill": {
     "duration": 0.019954,
     "end_time": "2025-05-31T09:59:32.713232",
     "exception": false,
     "start_time": "2025-05-31T09:59:32.693278",
     "status": "completed"
    },
    "tags": []
   },
   "source": [
    "LETS EXPLORE COMOBIDITIES"
   ]
  },
  {
   "cell_type": "code",
   "execution_count": 47,
   "id": "8def11f1",
   "metadata": {
    "execution": {
     "iopub.execute_input": "2025-05-31T09:59:32.757842Z",
     "iopub.status.busy": "2025-05-31T09:59:32.757526Z",
     "iopub.status.idle": "2025-05-31T09:59:32.929957Z",
     "shell.execute_reply": "2025-05-31T09:59:32.929030Z"
    },
    "papermill": {
     "duration": 0.197077,
     "end_time": "2025-05-31T09:59:32.931613",
     "exception": false,
     "start_time": "2025-05-31T09:59:32.734536",
     "status": "completed"
    },
    "tags": []
   },
   "outputs": [
    {
     "data": {
      "image/png": "[encoded data removed]",
      "text/plain": [
       "<Figure size 600x800 with 1 Axes>"
      ]
     },
     "metadata": {},
     "output_type": "display_data"
    }
   ],
   "source": [
    "# Now we create a vertical countplot showing the distribution of comorbidities\n",
    "# in the `cancer_v2` dataset. \n",
    "\n",
    "plt.figure(figsize=(6,8))  # Set the size of the figure\n",
    "sns.countplot(\n",
    "    data=cancer_v2,\n",
    "    x='Comorbidities',\n",
    "    palette='Paired'  # try to use colors like paired color palette for distinct colors\n",
    ")\n",
    "plt.tight_layout()\n",
    "plt.show()  # Display the plot\n"
   ]
  },
  {
   "cell_type": "code",
   "execution_count": 48,
   "id": "a8d9bc1e",
   "metadata": {
    "execution": {
     "iopub.execute_input": "2025-05-31T09:59:32.977193Z",
     "iopub.status.busy": "2025-05-31T09:59:32.976878Z",
     "iopub.status.idle": "2025-05-31T09:59:33.275081Z",
     "shell.execute_reply": "2025-05-31T09:59:33.274130Z"
    },
    "papermill": {
     "duration": 0.322119,
     "end_time": "2025-05-31T09:59:33.276610",
     "exception": false,
     "start_time": "2025-05-31T09:59:32.954491",
     "status": "completed"
    },
    "tags": []
   },
   "outputs": [
    {
     "data": {
      "image/png": "[encoded data removed]",
      "text/plain": [
       "<Figure size 1200x800 with 1 Axes>"
      ]
     },
     "metadata": {},
     "output_type": "display_data"
    }
   ],
   "source": [
    "# plot top 10 \n",
    "# This plot shows the count of different comorbidities within each gender group.\n",
    "# The bars are grouped by 'Comorbidities'.\n",
    "# It includes count labels for each bar and rotates x-axis labels for better readability.\n",
    "\n",
    "plt.figure(figsize=(12,8))  # Set the figure size\n",
    "\n",
    "sns.countplot(\n",
    "    data=cancer_v2,\n",
    "    x='Gender',  # Gender is on the x-axis\n",
    "    hue='Comorbidities',  # Bars are grouped by comorbidities\n",
    "    order=cancer_v2[cancer_v2['Gender'].notnull()]['Gender'].value_counts().index[:10],\n",
    "    palette='Set1'\n",
    ")\n",
    "\n",
    "plt.xlabel('Gender')  # Corrected: X-axis is Gender, not Cancer Type\n",
    "plt.ylabel('Count')\n",
    "plt.title('Comorbidities by Gender')  \n",
    "plt.xticks(rotation=45)\n",
    "plt.legend(title='Comorbidities')\n",
    "\n",
    "# Add count labels to each bar\n",
    "for container in plt.gca().containers:\n",
    "    plt.bar_label(container, label_type='edge', fontsize=10, padding=3, color='black')\n",
    "\n",
    "plt.show()\n"
   ]
  },
  {
   "cell_type": "code",
   "execution_count": 49,
   "id": "355a2f15",
   "metadata": {
    "execution": {
     "iopub.execute_input": "2025-05-31T09:59:33.322041Z",
     "iopub.status.busy": "2025-05-31T09:59:33.321730Z",
     "iopub.status.idle": "2025-05-31T09:59:33.901048Z",
     "shell.execute_reply": "2025-05-31T09:59:33.899987Z"
    },
    "papermill": {
     "duration": 0.603889,
     "end_time": "2025-05-31T09:59:33.902710",
     "exception": false,
     "start_time": "2025-05-31T09:59:33.298821",
     "status": "completed"
    },
    "tags": []
   },
   "outputs": [
    {
     "data": {
      "image/png": "[encoded data removed]",
      "text/plain": [
       "<Figure size 1200x800 with 1 Axes>"
      ]
     },
     "metadata": {},
     "output_type": "display_data"
    }
   ],
   "source": [
    "# here we create a countplot grouped by 'Comorbidities' for the top 10 cancer types\n",
    "\n",
    "plt.figure(figsize=(12,8))  # Set the overall figure size\n",
    "\n",
    "sns.countplot(\n",
    "    data=cancer_v2,\n",
    "    x='Cancer_Type',\n",
    "    hue='Comorbidities',\n",
    "    order=cancer_v2[cancer_v2['Cancer_Type'].notnull()]['Cancer_Type'].value_counts().index[:10],  # Top 10 cancer types\n",
    "    palette='Set1'  # Distinct color palette\n",
    ")\n",
    "\n",
    "# Set axis labels and title\n",
    "plt.xlabel('Cancer Type')\n",
    "plt.ylabel('Count')\n",
    "plt.title('Cancer Type by Comorbidities')\n",
    "\n",
    "# Improve readability of x-axis labels\n",
    "plt.xticks(rotation=45)\n",
    "\n",
    "# Set legend title\n",
    "plt.legend(title='Comorbidities')\n",
    "\n",
    "# Add count labels to each bar\n",
    "for container in plt.gca().containers:\n",
    "    plt.bar_label(container, label_type='edge', fontsize=10, padding=3, color='black')\n",
    "\n",
    "# Display the plot\n",
    "plt.show()\n",
    "\n"
   ]
  },
  {
   "cell_type": "code",
   "execution_count": 50,
   "id": "b3254ecb",
   "metadata": {
    "execution": {
     "iopub.execute_input": "2025-05-31T09:59:33.951388Z",
     "iopub.status.busy": "2025-05-31T09:59:33.951003Z",
     "iopub.status.idle": "2025-05-31T09:59:34.298474Z",
     "shell.execute_reply": "2025-05-31T09:59:34.297196Z"
    },
    "papermill": {
     "duration": 0.373981,
     "end_time": "2025-05-31T09:59:34.300022",
     "exception": false,
     "start_time": "2025-05-31T09:59:33.926041",
     "status": "completed"
    },
    "tags": []
   },
   "outputs": [
    {
     "data": {
      "image/png": "[encoded data removed]",
      "text/plain": [
       "<Figure size 1200x800 with 1 Axes>"
      ]
     },
     "metadata": {},
     "output_type": "display_data"
    }
   ],
   "source": [
    "# In this session, we group bar chart showing counts of comorbidities across ethnicities\n",
    "\n",
    "plt.figure(figsize=(12,8))  # Set figure size\n",
    "\n",
    "sns.countplot(\n",
    "    data=cancer_v2,\n",
    "    x='Ethnicity',\n",
    "    hue='Comorbidities',\n",
    "    order=cancer_v2[cancer_v2['Ethnicity'].notnull()]['Ethnicity'].value_counts().index[:10],  # Top 10 ethnicities\n",
    "    palette='Set1'  # try to Use a distinct, qualitative color palette\n",
    ")\n",
    "#set the labels\n",
    "plt.xlabel('Ethnicity')\n",
    "plt.ylabel('Count')\n",
    "plt.title('Comorbidities by Ethnicity')\n",
    "\n",
    "plt.xticks(rotation=45)  # Rotate x-axis labels 45 degress\n",
    "plt.legend(title='Comorbidities')  # Add legend title\n",
    "\n",
    "# Add count labels to each bar\n",
    "for container in plt.gca().containers:\n",
    "    plt.bar_label(container, label_type='edge', fontsize=10, padding=3, color='black')\n",
    "\n",
    "plt.show()  # Display the plot\n"
   ]
  },
  {
   "cell_type": "code",
   "execution_count": 51,
   "id": "15284048",
   "metadata": {
    "execution": {
     "iopub.execute_input": "2025-05-31T09:59:34.353039Z",
     "iopub.status.busy": "2025-05-31T09:59:34.352730Z",
     "iopub.status.idle": "2025-05-31T09:59:34.770111Z",
     "shell.execute_reply": "2025-05-31T09:59:34.769199Z"
    },
    "papermill": {
     "duration": 0.44642,
     "end_time": "2025-05-31T09:59:34.771936",
     "exception": false,
     "start_time": "2025-05-31T09:59:34.325516",
     "status": "completed"
    },
    "tags": []
   },
   "outputs": [
    {
     "data": {
      "image/png": "[encoded data removed]",
      "text/plain": [
       "<Figure size 1200x800 with 1 Axes>"
      ]
     },
     "metadata": {},
     "output_type": "display_data"
    }
   ],
   "source": [
    "# Here we count plot with Smoking_Status grouped by Ethnicity\n",
    "\n",
    "plt.figure(figsize=(12,8))  # We set the figure size\n",
    "\n",
    "sns.countplot(\n",
    "    data=cancer_v2,\n",
    "    x='Smoking_Status',\n",
    "    hue='Ethnicity',\n",
    "    order=cancer_v2[cancer_v2['Smoking_Status'].notnull()]['Smoking_Status'].value_counts().index[:10],\n",
    "    palette='Set2')  \n",
    "\n",
    "# Add bar labels for each bar\n",
    "for container in plt.gca().containers:  \n",
    "    plt.bar_label(container, label_type='edge', fontsize=10, padding=3, color='black')\n",
    "\n",
    "# Apply consistent Seaborn theme and style\n",
    "sns.set_theme(style=\"whitegrid\")  # Applies a clean white grid background\n",
    "sns.set_palette(\"pastel\")  # Override earlier 'Set2' if used after the plot (doesn't affect current plot)\n",
    "sns.axes_style(\"darkgrid\")  # This line won't take effect as it's not applied; use sns.set_style instead\n",
    "\n",
    "# Set axis labels and rotate x-ticks as usual 45 degrees\n",
    "plt.xlabel('Smoking Status')\n",
    "plt.ylabel('Count')\n",
    "plt.xticks(rotation=45)\n",
    "\n",
    "plt.title('Smoking Status by Ethnicity')  # Optional: Add a title for clarity\n",
    "plt.legend(title='Ethnicity', bbox_to_anchor=(1.05, 1), loc='upper left')  # Move legend outside if crowded\n",
    "\n",
    "plt.tight_layout()  # this will prevent label cutoff\n",
    "plt.show()\n"
   ]
  },
  {
   "cell_type": "code",
   "execution_count": 52,
   "id": "c03684a2",
   "metadata": {
    "execution": {
     "iopub.execute_input": "2025-05-31T09:59:34.825878Z",
     "iopub.status.busy": "2025-05-31T09:59:34.824928Z",
     "iopub.status.idle": "2025-05-31T09:59:35.502582Z",
     "shell.execute_reply": "2025-05-31T09:59:35.501493Z"
    },
    "papermill": {
     "duration": 0.706669,
     "end_time": "2025-05-31T09:59:35.504726",
     "exception": false,
     "start_time": "2025-05-31T09:59:34.798057",
     "status": "completed"
    },
    "tags": []
   },
   "outputs": [
    {
     "data": {
      "image/png": "[encoded data removed]",
      "text/plain": [
       "<Figure size 1600x1000 with 1 Axes>"
      ]
     },
     "metadata": {},
     "output_type": "display_data"
    }
   ],
   "source": [
    "# Lets Set Seaborn theme and palette BEFORE plotting\n",
    "sns.set_theme(style=\"whitegrid\")\n",
    "sns.set_style(\"darkgrid\")\n",
    "sns.set_palette(\"Set2\")  \n",
    "\n",
    "plt.figure(figsize=(16,10))\n",
    "\n",
    "# Horizontal grouped bar chart of top 10 cancer types by ethnicity\n",
    "sns.countplot(\n",
    "    data=cancer_v2,\n",
    "    y='Cancer_Type',\n",
    "    hue='Ethnicity',\n",
    "    order=cancer_v2[cancer_v2['Cancer_Type'].notnull()]['Cancer_Type'].value_counts().index[:10]\n",
    ")\n",
    "\n",
    "# Add labels to all bars dynamically\n",
    "for container in plt.gca().containers:\n",
    "    plt.bar_label(container, label_type='edge', fontsize=10, padding=3, color='black')\n",
    "\n",
    "# Correct axis labels\n",
    "plt.xlabel('Count')\n",
    "plt.ylabel('Cancer Type')\n",
    "plt.title('Top 10 Cancer Types by Ethnicity')\n",
    "\n",
    "plt.tight_layout()\n",
    "plt.show()\n"
   ]
  },
  {
   "cell_type": "code",
   "execution_count": 53,
   "id": "60e920ae",
   "metadata": {
    "execution": {
     "iopub.execute_input": "2025-05-31T09:59:35.561317Z",
     "iopub.status.busy": "2025-05-31T09:59:35.561011Z",
     "iopub.status.idle": "2025-05-31T09:59:35.576081Z",
     "shell.execute_reply": "2025-05-31T09:59:35.575224Z"
    },
    "papermill": {
     "duration": 0.044187,
     "end_time": "2025-05-31T09:59:35.577722",
     "exception": false,
     "start_time": "2025-05-31T09:59:35.533535",
     "status": "completed"
    },
    "tags": []
   },
   "outputs": [
    {
     "data": {
      "application/vnd.microsoft.datawrangler.viewer.v0+json": {
       "columns": [
        {
         "name": "index",
         "rawType": "object",
         "type": "string"
        },
        {
         "name": "Weight",
         "rawType": "float64",
         "type": "float"
        },
        {
         "name": "Height",
         "rawType": "float64",
         "type": "float"
        }
       ],
       "ref": "46723066-bef8-4363-b6dc-6f8ba889c679",
       "rows": [
        [
         "count",
         "522.0",
         "522.0"
        ],
        [
         "mean",
         "69.044061302682",
         "169.3065134099617"
        ],
        [
         "std",
         "15.189903871828493",
         "10.504816357610137"
        ],
        [
         "min",
         "21.0",
         "138.0"
        ],
        [
         "25%",
         "59.0",
         "163.0"
        ],
        [
         "50%",
         "69.0",
         "169.0"
        ],
        [
         "75%",
         "79.0",
         "176.0"
        ],
        [
         "max",
         "112.0",
         "200.0"
        ]
       ],
       "shape": {
        "columns": 2,
        "rows": 8
       }
      },
      "text/html": [
       "<div>\n",
       "<style scoped>\n",
       "    .dataframe tbody tr th:only-of-type {\n",
       "        vertical-align: middle;\n",
       "    }\n",
       "\n",
       "    .dataframe tbody tr th {\n",
       "        vertical-align: top;\n",
       "    }\n",
       "\n",
       "    .dataframe thead th {\n",
       "        text-align: right;\n",
       "    }\n",
       "</style>\n",
       "<table border=\"1\" class=\"dataframe\">\n",
       "  <thead>\n",
       "    <tr style=\"text-align: right;\">\n",
       "      <th></th>\n",
       "      <th>Weight</th>\n",
       "      <th>Height</th>\n",
       "    </tr>\n",
       "  </thead>\n",
       "  <tbody>\n",
       "    <tr>\n",
       "      <th>count</th>\n",
       "      <td>522.000000</td>\n",
       "      <td>522.000000</td>\n",
       "    </tr>\n",
       "    <tr>\n",
       "      <th>mean</th>\n",
       "      <td>69.044061</td>\n",
       "      <td>169.306513</td>\n",
       "    </tr>\n",
       "    <tr>\n",
       "      <th>std</th>\n",
       "      <td>15.189904</td>\n",
       "      <td>10.504816</td>\n",
       "    </tr>\n",
       "    <tr>\n",
       "      <th>min</th>\n",
       "      <td>21.000000</td>\n",
       "      <td>138.000000</td>\n",
       "    </tr>\n",
       "    <tr>\n",
       "      <th>25%</th>\n",
       "      <td>59.000000</td>\n",
       "      <td>163.000000</td>\n",
       "    </tr>\n",
       "    <tr>\n",
       "      <th>50%</th>\n",
       "      <td>69.000000</td>\n",
       "      <td>169.000000</td>\n",
       "    </tr>\n",
       "    <tr>\n",
       "      <th>75%</th>\n",
       "      <td>79.000000</td>\n",
       "      <td>176.000000</td>\n",
       "    </tr>\n",
       "    <tr>\n",
       "      <th>max</th>\n",
       "      <td>112.000000</td>\n",
       "      <td>200.000000</td>\n",
       "    </tr>\n",
       "  </tbody>\n",
       "</table>\n",
       "</div>"
      ],
      "text/plain": [
       "           Weight      Height\n",
       "count  522.000000  522.000000\n",
       "mean    69.044061  169.306513\n",
       "std     15.189904   10.504816\n",
       "min     21.000000  138.000000\n",
       "25%     59.000000  163.000000\n",
       "50%     69.000000  169.000000\n",
       "75%     79.000000  176.000000\n",
       "max    112.000000  200.000000"
      ]
     },
     "execution_count": 53,
     "metadata": {},
     "output_type": "execute_result"
    }
   ],
   "source": [
    "w_h = cancer_v2[['Weight', 'Height']]  # Check for missing values in 'Weight'\n",
    "w_h.describe()"
   ]
  },
  {
   "cell_type": "code",
   "execution_count": 54,
   "id": "825b162a",
   "metadata": {
    "execution": {
     "iopub.execute_input": "2025-05-31T09:59:35.634752Z",
     "iopub.status.busy": "2025-05-31T09:59:35.634423Z",
     "iopub.status.idle": "2025-05-31T09:59:35.641649Z",
     "shell.execute_reply": "2025-05-31T09:59:35.640514Z"
    },
    "papermill": {
     "duration": 0.037054,
     "end_time": "2025-05-31T09:59:35.643345",
     "exception": false,
     "start_time": "2025-05-31T09:59:35.606291",
     "status": "completed"
    },
    "tags": []
   },
   "outputs": [
    {
     "data": {
      "application/vnd.microsoft.datawrangler.viewer.v0+json": {
       "columns": [
        {
         "name": "index",
         "rawType": "object",
         "type": "string"
        },
        {
         "name": "0",
         "rawType": "int64",
         "type": "integer"
        }
       ],
       "ref": "97eb6436-3663-4cff-94fb-cb771e3f0b51",
       "rows": [
        [
         "Weight",
         "0"
        ],
        [
         "Height",
         "0"
        ]
       ],
       "shape": {
        "columns": 1,
        "rows": 2
       }
      },
      "text/plain": [
       "Weight    0\n",
       "Height    0\n",
       "dtype: int64"
      ]
     },
     "execution_count": 54,
     "metadata": {},
     "output_type": "execute_result"
    }
   ],
   "source": [
    "#check missing values\n",
    "w_h.isna().sum()\n"
   ]
  },
  {
   "cell_type": "markdown",
   "id": "36e03c44",
   "metadata": {
    "papermill": {
     "duration": 0.03708,
     "end_time": "2025-05-31T09:59:35.720807",
     "exception": false,
     "start_time": "2025-05-31T09:59:35.683727",
     "status": "completed"
    },
    "tags": []
   },
   "source": [
    "# calculate BMI Values"
   ]
  },
  {
   "cell_type": "code",
   "execution_count": 55,
   "id": "bd9fcc79",
   "metadata": {
    "execution": {
     "iopub.execute_input": "2025-05-31T09:59:35.778590Z",
     "iopub.status.busy": "2025-05-31T09:59:35.778222Z",
     "iopub.status.idle": "2025-05-31T09:59:35.814176Z",
     "shell.execute_reply": "2025-05-31T09:59:35.813197Z"
    },
    "papermill": {
     "duration": 0.066139,
     "end_time": "2025-05-31T09:59:35.815819",
     "exception": false,
     "start_time": "2025-05-31T09:59:35.749680",
     "status": "completed"
    },
    "tags": []
   },
   "outputs": [
    {
     "data": {
      "application/vnd.microsoft.datawrangler.viewer.v0+json": {
       "columns": [
        {
         "name": "index",
         "rawType": "object",
         "type": "string"
        },
        {
         "name": "BMI",
         "rawType": "float64",
         "type": "float"
        }
       ],
       "ref": "b04181af-897d-4693-8ade-b4401989113f",
       "rows": [
        [
         "count",
         "522.0"
        ],
        [
         "mean",
         "24.357413793103447"
        ],
        [
         "std",
         "6.171348012625604"
        ],
        [
         "min",
         "5.94"
        ],
        [
         "25%",
         "20.035"
        ],
        [
         "50%",
         "23.695"
        ],
        [
         "75%",
         "28.3625"
        ],
        [
         "max",
         "52.57"
        ]
       ],
       "shape": {
        "columns": 1,
        "rows": 8
       }
      },
      "text/html": [
       "<div>\n",
       "<style scoped>\n",
       "    .dataframe tbody tr th:only-of-type {\n",
       "        vertical-align: middle;\n",
       "    }\n",
       "\n",
       "    .dataframe tbody tr th {\n",
       "        vertical-align: top;\n",
       "    }\n",
       "\n",
       "    .dataframe thead th {\n",
       "        text-align: right;\n",
       "    }\n",
       "</style>\n",
       "<table border=\"1\" class=\"dataframe\">\n",
       "  <thead>\n",
       "    <tr style=\"text-align: right;\">\n",
       "      <th></th>\n",
       "      <th>BMI</th>\n",
       "    </tr>\n",
       "  </thead>\n",
       "  <tbody>\n",
       "    <tr>\n",
       "      <th>count</th>\n",
       "      <td>522.000000</td>\n",
       "    </tr>\n",
       "    <tr>\n",
       "      <th>mean</th>\n",
       "      <td>24.357414</td>\n",
       "    </tr>\n",
       "    <tr>\n",
       "      <th>std</th>\n",
       "      <td>6.171348</td>\n",
       "    </tr>\n",
       "    <tr>\n",
       "      <th>min</th>\n",
       "      <td>5.940000</td>\n",
       "    </tr>\n",
       "    <tr>\n",
       "      <th>25%</th>\n",
       "      <td>20.035000</td>\n",
       "    </tr>\n",
       "    <tr>\n",
       "      <th>50%</th>\n",
       "      <td>23.695000</td>\n",
       "    </tr>\n",
       "    <tr>\n",
       "      <th>75%</th>\n",
       "      <td>28.362500</td>\n",
       "    </tr>\n",
       "    <tr>\n",
       "      <th>max</th>\n",
       "      <td>52.570000</td>\n",
       "    </tr>\n",
       "  </tbody>\n",
       "</table>\n",
       "</div>"
      ],
      "text/plain": [
       "              BMI\n",
       "count  522.000000\n",
       "mean    24.357414\n",
       "std      6.171348\n",
       "min      5.940000\n",
       "25%     20.035000\n",
       "50%     23.695000\n",
       "75%     28.362500\n",
       "max     52.570000"
      ]
     },
     "execution_count": 55,
     "metadata": {},
     "output_type": "execute_result"
    }
   ],
   "source": [
    "cancer_v2['BMI'] = cancer_v2['Weight'] / ((cancer_v2['Height'] / 100) ** 2)  # Calculate BMI\n",
    "#rounding to 2 decimal places\n",
    "cancer_v2['BMI'] = cancer_v2['BMI'].round(2) \n",
    "cancer_v2[['BMI']]  # Check the calculated BMI values\n",
    "\n",
    "#get the describive statistics\n",
    "cancer_v2[['BMI']].describe()"
   ]
  },
  {
   "cell_type": "code",
   "execution_count": 56,
   "id": "19ec4d10",
   "metadata": {
    "execution": {
     "iopub.execute_input": "2025-05-31T09:59:35.873216Z",
     "iopub.status.busy": "2025-05-31T09:59:35.872946Z",
     "iopub.status.idle": "2025-05-31T09:59:36.300782Z",
     "shell.execute_reply": "2025-05-31T09:59:36.299572Z"
    },
    "papermill": {
     "duration": 0.458734,
     "end_time": "2025-05-31T09:59:36.302617",
     "exception": false,
     "start_time": "2025-05-31T09:59:35.843883",
     "status": "completed"
    },
    "tags": []
   },
   "outputs": [
    {
     "data": {
      "image/png": "[encoded data removed]",
      "text/plain": [
       "<Figure size 1000x600 with 1 Axes>"
      ]
     },
     "metadata": {},
     "output_type": "display_data"
    }
   ],
   "source": [
    "#check BMI Distribution\n",
    "plt.figure(figsize=(10, 6))\n",
    "sns.histplot(cancer_v2['BMI'], bins=30, kde=True, color='lightgreen')\n",
    "\n",
    "plt.title('Distribution of BMI')\n",
    "plt.xlabel('BMI')\n",
    "plt.ylabel('Frequency')\n",
    "plt.grid(True)\n",
    "plt.tight_layout()\n",
    "plt.show()"
   ]
  },
  {
   "cell_type": "markdown",
   "id": "178a0c49",
   "metadata": {
    "papermill": {
     "duration": 0.028902,
     "end_time": "2025-05-31T09:59:36.360623",
     "exception": false,
     "start_time": "2025-05-31T09:59:36.331721",
     "status": "completed"
    },
    "tags": []
   },
   "source": [
    "     #NEXT\n",
    "1.***Date variables – Convert these to proper datetime format:\n",
    "        Diagnosis_Date\n",
    "        Treatment_Start_Date\n",
    "        Death_Date***"
   ]
  },
  {
   "cell_type": "code",
   "execution_count": 57,
   "id": "a24234b2",
   "metadata": {
    "execution": {
     "iopub.execute_input": "2025-05-31T09:59:36.424978Z",
     "iopub.status.busy": "2025-05-31T09:59:36.424659Z",
     "iopub.status.idle": "2025-05-31T09:59:36.453043Z",
     "shell.execute_reply": "2025-05-31T09:59:36.451926Z"
    },
    "papermill": {
     "duration": 0.06349,
     "end_time": "2025-05-31T09:59:36.454711",
     "exception": false,
     "start_time": "2025-05-31T09:59:36.391221",
     "status": "completed"
    },
    "tags": []
   },
   "outputs": [
    {
     "data": {
      "application/vnd.microsoft.datawrangler.viewer.v0+json": {
       "columns": [
        {
         "name": "index",
         "rawType": "int64",
         "type": "integer"
        },
        {
         "name": "Diagnosis_Date",
         "rawType": "datetime64[ns]",
         "type": "datetime"
        },
        {
         "name": "Treatment_Start_Date",
         "rawType": "datetime64[ns]",
         "type": "datetime"
        },
        {
         "name": "Death_Date",
         "rawType": "datetime64[ns]",
         "type": "datetime"
        }
       ],
       "ref": "6a2b37a8-25e1-442b-b085-530bc5a7c990",
       "rows": [
        [
         "17",
         "2022-01-10 00:00:00",
         "2022-05-03 00:00:00",
         "2022-08-01 00:00:00"
        ],
        [
         "54",
         "2022-04-18 00:00:00",
         "2022-07-11 00:00:00",
         "2023-05-18 00:00:00"
        ],
        [
         "67",
         "2020-04-21 00:00:00",
         "2020-08-12 00:00:00",
         "2022-07-29 00:00:00"
        ],
        [
         "85",
         "2015-12-10 00:00:00",
         "2016-05-10 00:00:00",
         "2018-04-15 00:00:00"
        ],
        [
         "91",
         "2020-04-16 00:00:00",
         "2020-07-14 00:00:00",
         "2020-09-18 00:00:00"
        ],
        [
         "111",
         "2017-12-03 00:00:00",
         "2018-01-11 00:00:00",
         "2018-05-09 00:00:00"
        ],
        [
         "127",
         "2019-02-10 00:00:00",
         "2019-08-06 00:00:00",
         "2020-07-10 00:00:00"
        ],
        [
         "154",
         "2018-06-07 00:00:00",
         "2018-11-02 00:00:00",
         "2020-07-29 00:00:00"
        ],
        [
         "165",
         "2017-01-24 00:00:00",
         "2017-05-24 00:00:00",
         "2018-05-29 00:00:00"
        ],
        [
         "170",
         "2021-10-05 00:00:00",
         "2021-11-27 00:00:00",
         "2022-04-24 00:00:00"
        ],
        [
         "193",
         "2016-09-28 00:00:00",
         "2017-03-08 00:00:00",
         "2017-09-27 00:00:00"
        ],
        [
         "196",
         "2016-06-08 00:00:00",
         "2016-07-16 00:00:00",
         "2018-03-03 00:00:00"
        ],
        [
         "226",
         "2015-11-08 00:00:00",
         "2015-12-11 00:00:00",
         "2018-05-29 00:00:00"
        ],
        [
         "245",
         "2023-12-13 00:00:00",
         "2024-06-06 00:00:00",
         "2024-12-11 00:00:00"
        ],
        [
         "261",
         "2021-08-24 00:00:00",
         "2021-09-10 00:00:00",
         "2022-11-19 00:00:00"
        ],
        [
         "326",
         "2016-04-06 00:00:00",
         "2016-09-18 00:00:00",
         "2016-05-25 00:00:00"
        ],
        [
         "329",
         "2020-03-22 00:00:00",
         "2020-06-03 00:00:00",
         "2022-09-13 00:00:00"
        ],
        [
         "331",
         "2020-01-30 00:00:00",
         "2020-02-03 00:00:00",
         "2021-08-06 00:00:00"
        ],
        [
         "333",
         "2016-10-01 00:00:00",
         "2016-11-05 00:00:00",
         "2018-05-09 00:00:00"
        ],
        [
         "335",
         "2016-04-26 00:00:00",
         "2016-06-03 00:00:00",
         "2017-12-03 00:00:00"
        ],
        [
         "345",
         "2019-06-09 00:00:00",
         "2019-06-22 00:00:00",
         "2020-05-06 00:00:00"
        ],
        [
         "360",
         "2016-04-20 00:00:00",
         "2016-07-21 00:00:00",
         "2017-11-03 00:00:00"
        ],
        [
         "364",
         "2017-06-12 00:00:00",
         "2017-11-30 00:00:00",
         "2019-12-07 00:00:00"
        ],
        [
         "369",
         "2016-10-27 00:00:00",
         "2017-03-02 00:00:00",
         "2018-01-06 00:00:00"
        ],
        [
         "379",
         "2022-09-04 00:00:00",
         "2023-01-31 00:00:00",
         "2024-11-12 00:00:00"
        ],
        [
         "395",
         "2023-01-30 00:00:00",
         "2023-04-29 00:00:00",
         "2025-02-23 00:00:00"
        ],
        [
         "401",
         "2020-11-20 00:00:00",
         "2020-12-23 00:00:00",
         "2022-08-16 00:00:00"
        ],
        [
         "408",
         "2022-06-07 00:00:00",
         "2022-06-10 00:00:00",
         "2023-09-03 00:00:00"
        ],
        [
         "416",
         "2022-03-15 00:00:00",
         "2022-03-31 00:00:00",
         "2023-07-05 00:00:00"
        ],
        [
         "426",
         "2016-12-02 00:00:00",
         "2017-02-24 00:00:00",
         "2017-12-11 00:00:00"
        ],
        [
         "431",
         "2023-06-30 00:00:00",
         "2023-10-27 00:00:00",
         "2023-12-24 00:00:00"
        ],
        [
         "435",
         "2023-04-22 00:00:00",
         "2023-04-23 00:00:00",
         "2023-10-18 00:00:00"
        ],
        [
         "465",
         "2017-11-29 00:00:00",
         "2018-01-19 00:00:00",
         "2018-01-29 00:00:00"
        ],
        [
         "475",
         "2016-04-24 00:00:00",
         "2016-08-30 00:00:00",
         "2017-05-31 00:00:00"
        ],
        [
         "497",
         "2022-02-07 00:00:00",
         "2022-03-15 00:00:00",
         "2024-10-30 00:00:00"
        ],
        [
         "498",
         "2017-02-22 00:00:00",
         "2017-02-24 00:00:00",
         "2017-12-12 00:00:00"
        ],
        [
         "503",
         "2021-01-07 00:00:00",
         "2021-02-20 00:00:00",
         "2023-03-26 00:00:00"
        ],
        [
         "544",
         "2020-02-27 00:00:00",
         "2020-04-01 00:00:00",
         "2022-11-21 00:00:00"
        ],
        [
         "561",
         "2022-02-05 00:00:00",
         "2022-07-27 00:00:00",
         "2024-10-25 00:00:00"
        ],
        [
         "562",
         "2021-09-12 00:00:00",
         "2021-10-29 00:00:00",
         "2023-09-26 00:00:00"
        ],
        [
         "585",
         "2023-01-23 00:00:00",
         "2023-02-08 00:00:00",
         "2025-04-09 00:00:00"
        ],
        [
         "586",
         "2016-12-08 00:00:00",
         "2017-04-12 00:00:00",
         "2017-09-14 00:00:00"
        ],
        [
         "609",
         "2015-12-13 00:00:00",
         "2015-12-22 00:00:00",
         "2017-05-02 00:00:00"
        ],
        [
         "634",
         "2017-12-22 00:00:00",
         "2018-04-01 00:00:00",
         "2019-07-27 00:00:00"
        ],
        [
         "668",
         "2018-06-25 00:00:00",
         "2018-09-30 00:00:00",
         "2019-10-31 00:00:00"
        ],
        [
         "670",
         "2020-01-08 00:00:00",
         "2020-01-18 00:00:00",
         "2022-06-28 00:00:00"
        ],
        [
         "671",
         "2019-11-18 00:00:00",
         "2020-04-29 00:00:00",
         "2021-07-23 00:00:00"
        ],
        [
         "683",
         "2022-10-04 00:00:00",
         "2023-02-04 00:00:00",
         "2023-08-13 00:00:00"
        ],
        [
         "687",
         "2023-04-25 00:00:00",
         "2023-09-28 00:00:00",
         "2025-11-29 00:00:00"
        ],
        [
         "699",
         "2018-12-06 00:00:00",
         "2018-12-08 00:00:00",
         "2020-08-04 00:00:00"
        ]
       ],
       "shape": {
        "columns": 3,
        "rows": 522
       }
      },
      "text/html": [
       "<div>\n",
       "<style scoped>\n",
       "    .dataframe tbody tr th:only-of-type {\n",
       "        vertical-align: middle;\n",
       "    }\n",
       "\n",
       "    .dataframe tbody tr th {\n",
       "        vertical-align: top;\n",
       "    }\n",
       "\n",
       "    .dataframe thead th {\n",
       "        text-align: right;\n",
       "    }\n",
       "</style>\n",
       "<table border=\"1\" class=\"dataframe\">\n",
       "  <thead>\n",
       "    <tr style=\"text-align: right;\">\n",
       "      <th></th>\n",
       "      <th>Diagnosis_Date</th>\n",
       "      <th>Treatment_Start_Date</th>\n",
       "      <th>Death_Date</th>\n",
       "    </tr>\n",
       "  </thead>\n",
       "  <tbody>\n",
       "    <tr>\n",
       "      <th>17</th>\n",
       "      <td>2022-01-10</td>\n",
       "      <td>2022-05-03</td>\n",
       "      <td>2022-08-01</td>\n",
       "    </tr>\n",
       "    <tr>\n",
       "      <th>54</th>\n",
       "      <td>2022-04-18</td>\n",
       "      <td>2022-07-11</td>\n",
       "      <td>2023-05-18</td>\n",
       "    </tr>\n",
       "    <tr>\n",
       "      <th>67</th>\n",
       "      <td>2020-04-21</td>\n",
       "      <td>2020-08-12</td>\n",
       "      <td>2022-07-29</td>\n",
       "    </tr>\n",
       "    <tr>\n",
       "      <th>85</th>\n",
       "      <td>2015-12-10</td>\n",
       "      <td>2016-05-10</td>\n",
       "      <td>2018-04-15</td>\n",
       "    </tr>\n",
       "    <tr>\n",
       "      <th>91</th>\n",
       "      <td>2020-04-16</td>\n",
       "      <td>2020-07-14</td>\n",
       "      <td>2020-09-18</td>\n",
       "    </tr>\n",
       "    <tr>\n",
       "      <th>...</th>\n",
       "      <td>...</td>\n",
       "      <td>...</td>\n",
       "      <td>...</td>\n",
       "    </tr>\n",
       "    <tr>\n",
       "      <th>9958</th>\n",
       "      <td>2019-12-10</td>\n",
       "      <td>2020-04-07</td>\n",
       "      <td>2021-10-25</td>\n",
       "    </tr>\n",
       "    <tr>\n",
       "      <th>9964</th>\n",
       "      <td>2016-06-07</td>\n",
       "      <td>2016-06-29</td>\n",
       "      <td>2017-05-30</td>\n",
       "    </tr>\n",
       "    <tr>\n",
       "      <th>9979</th>\n",
       "      <td>2018-01-15</td>\n",
       "      <td>2018-06-02</td>\n",
       "      <td>2019-08-02</td>\n",
       "    </tr>\n",
       "    <tr>\n",
       "      <th>9982</th>\n",
       "      <td>2019-06-21</td>\n",
       "      <td>2019-10-23</td>\n",
       "      <td>2020-10-08</td>\n",
       "    </tr>\n",
       "    <tr>\n",
       "      <th>9991</th>\n",
       "      <td>2022-02-14</td>\n",
       "      <td>2022-02-27</td>\n",
       "      <td>2023-05-17</td>\n",
       "    </tr>\n",
       "  </tbody>\n",
       "</table>\n",
       "<p>522 rows × 3 columns</p>\n",
       "</div>"
      ],
      "text/plain": [
       "     Diagnosis_Date Treatment_Start_Date Death_Date\n",
       "17       2022-01-10           2022-05-03 2022-08-01\n",
       "54       2022-04-18           2022-07-11 2023-05-18\n",
       "67       2020-04-21           2020-08-12 2022-07-29\n",
       "85       2015-12-10           2016-05-10 2018-04-15\n",
       "91       2020-04-16           2020-07-14 2020-09-18\n",
       "...             ...                  ...        ...\n",
       "9958     2019-12-10           2020-04-07 2021-10-25\n",
       "9964     2016-06-07           2016-06-29 2017-05-30\n",
       "9979     2018-01-15           2018-06-02 2019-08-02\n",
       "9982     2019-06-21           2019-10-23 2020-10-08\n",
       "9991     2022-02-14           2022-02-27 2023-05-17\n",
       "\n",
       "[522 rows x 3 columns]"
      ]
     },
     "execution_count": 57,
     "metadata": {},
     "output_type": "execute_result"
    }
   ],
   "source": [
    "# convert and ensure all data are in datetime value\n",
    "cancer_v2['Death_Date'] = pd.to_datetime(cancer_v2['Death_Date'], errors='coerce')\n",
    "cancer_v2['Diagnosis_Date'] = pd.to_datetime(cancer_v2['Diagnosis_Date'], errors='coerce')\n",
    "cancer_v2['Treatment_Start_Date'] = pd.to_datetime(cancer_v2['Treatment_Start_Date'], errors='coerce')\n",
    "\n",
    "cancer_v2[['Diagnosis_Date', 'Treatment_Start_Date', 'Death_Date']]"
   ]
  },
  {
   "cell_type": "markdown",
   "id": "332615c6",
   "metadata": {
    "papermill": {
     "duration": 0.03021,
     "end_time": "2025-05-31T09:59:36.514432",
     "exception": false,
     "start_time": "2025-05-31T09:59:36.484222",
     "status": "completed"
    },
    "tags": []
   },
   "source": [
    "****we might what to check rows with Nat (Not a Date) to conform everything is very fine****"
   ]
  },
  {
   "cell_type": "code",
   "execution_count": 58,
   "id": "ca4f5139",
   "metadata": {
    "execution": {
     "iopub.execute_input": "2025-05-31T09:59:36.577378Z",
     "iopub.status.busy": "2025-05-31T09:59:36.576291Z",
     "iopub.status.idle": "2025-05-31T09:59:36.593375Z",
     "shell.execute_reply": "2025-05-31T09:59:36.592486Z"
    },
    "papermill": {
     "duration": 0.049667,
     "end_time": "2025-05-31T09:59:36.594892",
     "exception": false,
     "start_time": "2025-05-31T09:59:36.545225",
     "status": "completed"
    },
    "tags": []
   },
   "outputs": [
    {
     "data": {
      "application/vnd.microsoft.datawrangler.viewer.v0+json": {
       "columns": [
        {
         "name": "index",
         "rawType": "int64",
         "type": "integer"
        },
        {
         "name": "Diagnosis_Date",
         "rawType": "datetime64[ns]",
         "type": "datetime"
        },
        {
         "name": "Treatment_Start_Date",
         "rawType": "datetime64[ns]",
         "type": "datetime"
        },
        {
         "name": "Death_Date",
         "rawType": "datetime64[ns]",
         "type": "datetime"
        }
       ],
       "ref": "78d76c4a-48f4-4ecc-9b7a-f25ae63ae6f8",
       "rows": [
        [
         "17",
         "2022-01-10 00:00:00",
         "2022-05-03 00:00:00",
         "2022-08-01 00:00:00"
        ],
        [
         "54",
         "2022-04-18 00:00:00",
         "2022-07-11 00:00:00",
         "2023-05-18 00:00:00"
        ],
        [
         "67",
         "2020-04-21 00:00:00",
         "2020-08-12 00:00:00",
         "2022-07-29 00:00:00"
        ],
        [
         "85",
         "2015-12-10 00:00:00",
         "2016-05-10 00:00:00",
         "2018-04-15 00:00:00"
        ],
        [
         "91",
         "2020-04-16 00:00:00",
         "2020-07-14 00:00:00",
         "2020-09-18 00:00:00"
        ],
        [
         "111",
         "2017-12-03 00:00:00",
         "2018-01-11 00:00:00",
         "2018-05-09 00:00:00"
        ],
        [
         "127",
         "2019-02-10 00:00:00",
         "2019-08-06 00:00:00",
         "2020-07-10 00:00:00"
        ],
        [
         "154",
         "2018-06-07 00:00:00",
         "2018-11-02 00:00:00",
         "2020-07-29 00:00:00"
        ],
        [
         "165",
         "2017-01-24 00:00:00",
         "2017-05-24 00:00:00",
         "2018-05-29 00:00:00"
        ],
        [
         "170",
         "2021-10-05 00:00:00",
         "2021-11-27 00:00:00",
         "2022-04-24 00:00:00"
        ],
        [
         "193",
         "2016-09-28 00:00:00",
         "2017-03-08 00:00:00",
         "2017-09-27 00:00:00"
        ],
        [
         "196",
         "2016-06-08 00:00:00",
         "2016-07-16 00:00:00",
         "2018-03-03 00:00:00"
        ],
        [
         "226",
         "2015-11-08 00:00:00",
         "2015-12-11 00:00:00",
         "2018-05-29 00:00:00"
        ],
        [
         "245",
         "2023-12-13 00:00:00",
         "2024-06-06 00:00:00",
         "2024-12-11 00:00:00"
        ],
        [
         "261",
         "2021-08-24 00:00:00",
         "2021-09-10 00:00:00",
         "2022-11-19 00:00:00"
        ],
        [
         "326",
         "2016-04-06 00:00:00",
         "2016-09-18 00:00:00",
         "2016-05-25 00:00:00"
        ],
        [
         "329",
         "2020-03-22 00:00:00",
         "2020-06-03 00:00:00",
         "2022-09-13 00:00:00"
        ],
        [
         "331",
         "2020-01-30 00:00:00",
         "2020-02-03 00:00:00",
         "2021-08-06 00:00:00"
        ],
        [
         "333",
         "2016-10-01 00:00:00",
         "2016-11-05 00:00:00",
         "2018-05-09 00:00:00"
        ],
        [
         "335",
         "2016-04-26 00:00:00",
         "2016-06-03 00:00:00",
         "2017-12-03 00:00:00"
        ],
        [
         "345",
         "2019-06-09 00:00:00",
         "2019-06-22 00:00:00",
         "2020-05-06 00:00:00"
        ],
        [
         "360",
         "2016-04-20 00:00:00",
         "2016-07-21 00:00:00",
         "2017-11-03 00:00:00"
        ],
        [
         "364",
         "2017-06-12 00:00:00",
         "2017-11-30 00:00:00",
         "2019-12-07 00:00:00"
        ],
        [
         "369",
         "2016-10-27 00:00:00",
         "2017-03-02 00:00:00",
         "2018-01-06 00:00:00"
        ],
        [
         "379",
         "2022-09-04 00:00:00",
         "2023-01-31 00:00:00",
         "2024-11-12 00:00:00"
        ],
        [
         "395",
         "2023-01-30 00:00:00",
         "2023-04-29 00:00:00",
         "2025-02-23 00:00:00"
        ],
        [
         "401",
         "2020-11-20 00:00:00",
         "2020-12-23 00:00:00",
         "2022-08-16 00:00:00"
        ],
        [
         "408",
         "2022-06-07 00:00:00",
         "2022-06-10 00:00:00",
         "2023-09-03 00:00:00"
        ],
        [
         "416",
         "2022-03-15 00:00:00",
         "2022-03-31 00:00:00",
         "2023-07-05 00:00:00"
        ],
        [
         "426",
         "2016-12-02 00:00:00",
         "2017-02-24 00:00:00",
         "2017-12-11 00:00:00"
        ],
        [
         "431",
         "2023-06-30 00:00:00",
         "2023-10-27 00:00:00",
         "2023-12-24 00:00:00"
        ],
        [
         "435",
         "2023-04-22 00:00:00",
         "2023-04-23 00:00:00",
         "2023-10-18 00:00:00"
        ],
        [
         "465",
         "2017-11-29 00:00:00",
         "2018-01-19 00:00:00",
         "2018-01-29 00:00:00"
        ],
        [
         "475",
         "2016-04-24 00:00:00",
         "2016-08-30 00:00:00",
         "2017-05-31 00:00:00"
        ],
        [
         "497",
         "2022-02-07 00:00:00",
         "2022-03-15 00:00:00",
         "2024-10-30 00:00:00"
        ],
        [
         "498",
         "2017-02-22 00:00:00",
         "2017-02-24 00:00:00",
         "2017-12-12 00:00:00"
        ],
        [
         "503",
         "2021-01-07 00:00:00",
         "2021-02-20 00:00:00",
         "2023-03-26 00:00:00"
        ],
        [
         "544",
         "2020-02-27 00:00:00",
         "2020-04-01 00:00:00",
         "2022-11-21 00:00:00"
        ],
        [
         "561",
         "2022-02-05 00:00:00",
         "2022-07-27 00:00:00",
         "2024-10-25 00:00:00"
        ],
        [
         "562",
         "2021-09-12 00:00:00",
         "2021-10-29 00:00:00",
         "2023-09-26 00:00:00"
        ],
        [
         "585",
         "2023-01-23 00:00:00",
         "2023-02-08 00:00:00",
         "2025-04-09 00:00:00"
        ],
        [
         "586",
         "2016-12-08 00:00:00",
         "2017-04-12 00:00:00",
         "2017-09-14 00:00:00"
        ],
        [
         "609",
         "2015-12-13 00:00:00",
         "2015-12-22 00:00:00",
         "2017-05-02 00:00:00"
        ],
        [
         "634",
         "2017-12-22 00:00:00",
         "2018-04-01 00:00:00",
         "2019-07-27 00:00:00"
        ],
        [
         "668",
         "2018-06-25 00:00:00",
         "2018-09-30 00:00:00",
         "2019-10-31 00:00:00"
        ],
        [
         "670",
         "2020-01-08 00:00:00",
         "2020-01-18 00:00:00",
         "2022-06-28 00:00:00"
        ],
        [
         "671",
         "2019-11-18 00:00:00",
         "2020-04-29 00:00:00",
         "2021-07-23 00:00:00"
        ],
        [
         "683",
         "2022-10-04 00:00:00",
         "2023-02-04 00:00:00",
         "2023-08-13 00:00:00"
        ],
        [
         "687",
         "2023-04-25 00:00:00",
         "2023-09-28 00:00:00",
         "2025-11-29 00:00:00"
        ],
        [
         "699",
         "2018-12-06 00:00:00",
         "2018-12-08 00:00:00",
         "2020-08-04 00:00:00"
        ]
       ],
       "shape": {
        "columns": 3,
        "rows": 522
       }
      },
      "text/html": [
       "<div>\n",
       "<style scoped>\n",
       "    .dataframe tbody tr th:only-of-type {\n",
       "        vertical-align: middle;\n",
       "    }\n",
       "\n",
       "    .dataframe tbody tr th {\n",
       "        vertical-align: top;\n",
       "    }\n",
       "\n",
       "    .dataframe thead th {\n",
       "        text-align: right;\n",
       "    }\n",
       "</style>\n",
       "<table border=\"1\" class=\"dataframe\">\n",
       "  <thead>\n",
       "    <tr style=\"text-align: right;\">\n",
       "      <th></th>\n",
       "      <th>Diagnosis_Date</th>\n",
       "      <th>Treatment_Start_Date</th>\n",
       "      <th>Death_Date</th>\n",
       "    </tr>\n",
       "  </thead>\n",
       "  <tbody>\n",
       "    <tr>\n",
       "      <th>17</th>\n",
       "      <td>2022-01-10</td>\n",
       "      <td>2022-05-03</td>\n",
       "      <td>2022-08-01</td>\n",
       "    </tr>\n",
       "    <tr>\n",
       "      <th>54</th>\n",
       "      <td>2022-04-18</td>\n",
       "      <td>2022-07-11</td>\n",
       "      <td>2023-05-18</td>\n",
       "    </tr>\n",
       "    <tr>\n",
       "      <th>67</th>\n",
       "      <td>2020-04-21</td>\n",
       "      <td>2020-08-12</td>\n",
       "      <td>2022-07-29</td>\n",
       "    </tr>\n",
       "    <tr>\n",
       "      <th>85</th>\n",
       "      <td>2015-12-10</td>\n",
       "      <td>2016-05-10</td>\n",
       "      <td>2018-04-15</td>\n",
       "    </tr>\n",
       "    <tr>\n",
       "      <th>91</th>\n",
       "      <td>2020-04-16</td>\n",
       "      <td>2020-07-14</td>\n",
       "      <td>2020-09-18</td>\n",
       "    </tr>\n",
       "    <tr>\n",
       "      <th>...</th>\n",
       "      <td>...</td>\n",
       "      <td>...</td>\n",
       "      <td>...</td>\n",
       "    </tr>\n",
       "    <tr>\n",
       "      <th>9958</th>\n",
       "      <td>2019-12-10</td>\n",
       "      <td>2020-04-07</td>\n",
       "      <td>2021-10-25</td>\n",
       "    </tr>\n",
       "    <tr>\n",
       "      <th>9964</th>\n",
       "      <td>2016-06-07</td>\n",
       "      <td>2016-06-29</td>\n",
       "      <td>2017-05-30</td>\n",
       "    </tr>\n",
       "    <tr>\n",
       "      <th>9979</th>\n",
       "      <td>2018-01-15</td>\n",
       "      <td>2018-06-02</td>\n",
       "      <td>2019-08-02</td>\n",
       "    </tr>\n",
       "    <tr>\n",
       "      <th>9982</th>\n",
       "      <td>2019-06-21</td>\n",
       "      <td>2019-10-23</td>\n",
       "      <td>2020-10-08</td>\n",
       "    </tr>\n",
       "    <tr>\n",
       "      <th>9991</th>\n",
       "      <td>2022-02-14</td>\n",
       "      <td>2022-02-27</td>\n",
       "      <td>2023-05-17</td>\n",
       "    </tr>\n",
       "  </tbody>\n",
       "</table>\n",
       "<p>522 rows × 3 columns</p>\n",
       "</div>"
      ],
      "text/plain": [
       "     Diagnosis_Date Treatment_Start_Date Death_Date\n",
       "17       2022-01-10           2022-05-03 2022-08-01\n",
       "54       2022-04-18           2022-07-11 2023-05-18\n",
       "67       2020-04-21           2020-08-12 2022-07-29\n",
       "85       2015-12-10           2016-05-10 2018-04-15\n",
       "91       2020-04-16           2020-07-14 2020-09-18\n",
       "...             ...                  ...        ...\n",
       "9958     2019-12-10           2020-04-07 2021-10-25\n",
       "9964     2016-06-07           2016-06-29 2017-05-30\n",
       "9979     2018-01-15           2018-06-02 2019-08-02\n",
       "9982     2019-06-21           2019-10-23 2020-10-08\n",
       "9991     2022-02-14           2022-02-27 2023-05-17\n",
       "\n",
       "[522 rows x 3 columns]"
      ]
     },
     "execution_count": 58,
     "metadata": {},
     "output_type": "execute_result"
    }
   ],
   "source": [
    "cancer_v2[['Diagnosis_Date', 'Treatment_Start_Date', 'Death_Date']].isna().sum()  # Check for any NaT values after conversion\n",
    "                                          \n",
    "\n",
    "                                                                #OR\n",
    "\n",
    "\n",
    "cancer_v2[cancer_v2['Diagnosis_Date'].isna() | cancer_v2['Treatment_Start_Date'].isna() | cancer_v2['Death_Date'].isna()]  # Display rows with NaT values in any of the date columns\n",
    "\n",
    "\n",
    "\n",
    "\n",
    "cancer_v2[['Diagnosis_Date', 'Treatment_Start_Date', 'Death_Date']]"
   ]
  },
  {
   "cell_type": "markdown",
   "id": "6cbd6afd",
   "metadata": {
    "papermill": {
     "duration": 0.030099,
     "end_time": "2025-05-31T09:59:36.712981",
     "exception": false,
     "start_time": "2025-05-31T09:59:36.682882",
     "status": "completed"
    },
    "tags": []
   },
   "source": [
    "**AS AT THE TIME I WAS ANALYSING AND exploring the dataset, I checked for values that are set in the future —meaning dates beyond today. I did this to ensure our data makes logical sense because a future death date likely indicates a data entry error. Identifying these helps us maintain data quality and avoid misleading results in survival or time-to-event analyses. It’s a simple but important step to make sure our findings are accurate and trustworthy.**\n",
    "\n",
    "\n",
    "**SO lets do this checks together to ensure that all the dates we have are within time that is does not exceed today**"
   ]
  },
  {
   "cell_type": "code",
   "execution_count": 59,
   "id": "054503e6",
   "metadata": {
    "execution": {
     "iopub.execute_input": "2025-05-31T09:59:36.775852Z",
     "iopub.status.busy": "2025-05-31T09:59:36.775534Z",
     "iopub.status.idle": "2025-05-31T09:59:36.793585Z",
     "shell.execute_reply": "2025-05-31T09:59:36.792522Z"
    },
    "papermill": {
     "duration": 0.050469,
     "end_time": "2025-05-31T09:59:36.795373",
     "exception": false,
     "start_time": "2025-05-31T09:59:36.744904",
     "status": "completed"
    },
    "tags": []
   },
   "outputs": [
    {
     "data": {
      "application/vnd.microsoft.datawrangler.viewer.v0+json": {
       "columns": [
        {
         "name": "index",
         "rawType": "int64",
         "type": "integer"
        },
        {
         "name": "Diagnosis_Date",
         "rawType": "datetime64[ns]",
         "type": "datetime"
        },
        {
         "name": "Treatment_Start_Date",
         "rawType": "datetime64[ns]",
         "type": "datetime"
        },
        {
         "name": "Death_Date",
         "rawType": "datetime64[ns]",
         "type": "datetime"
        }
       ],
       "ref": "1a597c2c-40b6-436f-a9ea-0a1e32bdee0a",
       "rows": [
        [
         "3606",
         "2023-09-11 00:00:00",
         "2023-12-21 00:00:00",
         "2026-05-15 00:00:00"
        ],
        [
         "9167",
         "2024-01-09 00:00:00",
         "2024-02-02 00:00:00",
         "2026-04-11 00:00:00"
        ],
        [
         "7193",
         "2024-02-06 00:00:00",
         "2024-04-26 00:00:00",
         "2026-03-12 00:00:00"
        ],
        [
         "3923",
         "2023-07-14 00:00:00",
         "2023-09-08 00:00:00",
         "2026-03-12 00:00:00"
        ],
        [
         "2168",
         "2024-01-03 00:00:00",
         "2024-06-22 00:00:00",
         "2026-02-07 00:00:00"
        ],
        [
         "1902",
         "2023-10-10 00:00:00",
         "2024-01-04 00:00:00",
         "2026-02-05 00:00:00"
        ],
        [
         "8811",
         "2023-05-07 00:00:00",
         "2023-09-17 00:00:00",
         "2026-01-29 00:00:00"
        ],
        [
         "2639",
         "2023-09-08 00:00:00",
         "2023-12-10 00:00:00",
         "2026-01-16 00:00:00"
        ],
        [
         "9487",
         "2023-05-08 00:00:00",
         "2023-06-06 00:00:00",
         "2025-12-30 00:00:00"
        ],
        [
         "9822",
         "2023-08-28 00:00:00",
         "2023-09-06 00:00:00",
         "2025-12-23 00:00:00"
        ],
        [
         "3267",
         "2023-11-29 00:00:00",
         "2024-03-05 00:00:00",
         "2025-12-16 00:00:00"
        ],
        [
         "687",
         "2023-04-25 00:00:00",
         "2023-09-28 00:00:00",
         "2025-11-29 00:00:00"
        ],
        [
         "4229",
         "2023-11-06 00:00:00",
         "2023-11-28 00:00:00",
         "2025-11-01 00:00:00"
        ],
        [
         "1219",
         "2023-12-01 00:00:00",
         "2024-03-21 00:00:00",
         "2025-09-27 00:00:00"
        ],
        [
         "8285",
         "2023-08-02 00:00:00",
         "2023-10-25 00:00:00",
         "2025-09-22 00:00:00"
        ],
        [
         "3965",
         "2023-12-25 00:00:00",
         "2024-01-25 00:00:00",
         "2025-09-20 00:00:00"
        ],
        [
         "6105",
         "2023-12-06 00:00:00",
         "2024-01-09 00:00:00",
         "2025-08-30 00:00:00"
        ],
        [
         "7348",
         "2023-09-27 00:00:00",
         "2023-10-22 00:00:00",
         "2025-08-12 00:00:00"
        ],
        [
         "2022",
         "2022-12-18 00:00:00",
         "2023-05-14 00:00:00",
         "2025-07-28 00:00:00"
        ],
        [
         "6853",
         "2023-11-26 00:00:00",
         "2024-01-19 00:00:00",
         "2025-07-19 00:00:00"
        ],
        [
         "9547",
         "2023-04-26 00:00:00",
         "2023-05-06 00:00:00",
         "2025-06-17 00:00:00"
        ]
       ],
       "shape": {
        "columns": 3,
        "rows": 21
       }
      },
      "text/html": [
       "<div>\n",
       "<style scoped>\n",
       "    .dataframe tbody tr th:only-of-type {\n",
       "        vertical-align: middle;\n",
       "    }\n",
       "\n",
       "    .dataframe tbody tr th {\n",
       "        vertical-align: top;\n",
       "    }\n",
       "\n",
       "    .dataframe thead th {\n",
       "        text-align: right;\n",
       "    }\n",
       "</style>\n",
       "<table border=\"1\" class=\"dataframe\">\n",
       "  <thead>\n",
       "    <tr style=\"text-align: right;\">\n",
       "      <th></th>\n",
       "      <th>Diagnosis_Date</th>\n",
       "      <th>Treatment_Start_Date</th>\n",
       "      <th>Death_Date</th>\n",
       "    </tr>\n",
       "  </thead>\n",
       "  <tbody>\n",
       "    <tr>\n",
       "      <th>3606</th>\n",
       "      <td>2023-09-11</td>\n",
       "      <td>2023-12-21</td>\n",
       "      <td>2026-05-15</td>\n",
       "    </tr>\n",
       "    <tr>\n",
       "      <th>9167</th>\n",
       "      <td>2024-01-09</td>\n",
       "      <td>2024-02-02</td>\n",
       "      <td>2026-04-11</td>\n",
       "    </tr>\n",
       "    <tr>\n",
       "      <th>7193</th>\n",
       "      <td>2024-02-06</td>\n",
       "      <td>2024-04-26</td>\n",
       "      <td>2026-03-12</td>\n",
       "    </tr>\n",
       "    <tr>\n",
       "      <th>3923</th>\n",
       "      <td>2023-07-14</td>\n",
       "      <td>2023-09-08</td>\n",
       "      <td>2026-03-12</td>\n",
       "    </tr>\n",
       "    <tr>\n",
       "      <th>2168</th>\n",
       "      <td>2024-01-03</td>\n",
       "      <td>2024-06-22</td>\n",
       "      <td>2026-02-07</td>\n",
       "    </tr>\n",
       "    <tr>\n",
       "      <th>1902</th>\n",
       "      <td>2023-10-10</td>\n",
       "      <td>2024-01-04</td>\n",
       "      <td>2026-02-05</td>\n",
       "    </tr>\n",
       "    <tr>\n",
       "      <th>8811</th>\n",
       "      <td>2023-05-07</td>\n",
       "      <td>2023-09-17</td>\n",
       "      <td>2026-01-29</td>\n",
       "    </tr>\n",
       "    <tr>\n",
       "      <th>2639</th>\n",
       "      <td>2023-09-08</td>\n",
       "      <td>2023-12-10</td>\n",
       "      <td>2026-01-16</td>\n",
       "    </tr>\n",
       "    <tr>\n",
       "      <th>9487</th>\n",
       "      <td>2023-05-08</td>\n",
       "      <td>2023-06-06</td>\n",
       "      <td>2025-12-30</td>\n",
       "    </tr>\n",
       "    <tr>\n",
       "      <th>9822</th>\n",
       "      <td>2023-08-28</td>\n",
       "      <td>2023-09-06</td>\n",
       "      <td>2025-12-23</td>\n",
       "    </tr>\n",
       "    <tr>\n",
       "      <th>3267</th>\n",
       "      <td>2023-11-29</td>\n",
       "      <td>2024-03-05</td>\n",
       "      <td>2025-12-16</td>\n",
       "    </tr>\n",
       "    <tr>\n",
       "      <th>687</th>\n",
       "      <td>2023-04-25</td>\n",
       "      <td>2023-09-28</td>\n",
       "      <td>2025-11-29</td>\n",
       "    </tr>\n",
       "    <tr>\n",
       "      <th>4229</th>\n",
       "      <td>2023-11-06</td>\n",
       "      <td>2023-11-28</td>\n",
       "      <td>2025-11-01</td>\n",
       "    </tr>\n",
       "    <tr>\n",
       "      <th>1219</th>\n",
       "      <td>2023-12-01</td>\n",
       "      <td>2024-03-21</td>\n",
       "      <td>2025-09-27</td>\n",
       "    </tr>\n",
       "    <tr>\n",
       "      <th>8285</th>\n",
       "      <td>2023-08-02</td>\n",
       "      <td>2023-10-25</td>\n",
       "      <td>2025-09-22</td>\n",
       "    </tr>\n",
       "    <tr>\n",
       "      <th>3965</th>\n",
       "      <td>2023-12-25</td>\n",
       "      <td>2024-01-25</td>\n",
       "      <td>2025-09-20</td>\n",
       "    </tr>\n",
       "    <tr>\n",
       "      <th>6105</th>\n",
       "      <td>2023-12-06</td>\n",
       "      <td>2024-01-09</td>\n",
       "      <td>2025-08-30</td>\n",
       "    </tr>\n",
       "    <tr>\n",
       "      <th>7348</th>\n",
       "      <td>2023-09-27</td>\n",
       "      <td>2023-10-22</td>\n",
       "      <td>2025-08-12</td>\n",
       "    </tr>\n",
       "    <tr>\n",
       "      <th>2022</th>\n",
       "      <td>2022-12-18</td>\n",
       "      <td>2023-05-14</td>\n",
       "      <td>2025-07-28</td>\n",
       "    </tr>\n",
       "    <tr>\n",
       "      <th>6853</th>\n",
       "      <td>2023-11-26</td>\n",
       "      <td>2024-01-19</td>\n",
       "      <td>2025-07-19</td>\n",
       "    </tr>\n",
       "    <tr>\n",
       "      <th>9547</th>\n",
       "      <td>2023-04-26</td>\n",
       "      <td>2023-05-06</td>\n",
       "      <td>2025-06-17</td>\n",
       "    </tr>\n",
       "  </tbody>\n",
       "</table>\n",
       "</div>"
      ],
      "text/plain": [
       "     Diagnosis_Date Treatment_Start_Date Death_Date\n",
       "3606     2023-09-11           2023-12-21 2026-05-15\n",
       "9167     2024-01-09           2024-02-02 2026-04-11\n",
       "7193     2024-02-06           2024-04-26 2026-03-12\n",
       "3923     2023-07-14           2023-09-08 2026-03-12\n",
       "2168     2024-01-03           2024-06-22 2026-02-07\n",
       "1902     2023-10-10           2024-01-04 2026-02-05\n",
       "8811     2023-05-07           2023-09-17 2026-01-29\n",
       "2639     2023-09-08           2023-12-10 2026-01-16\n",
       "9487     2023-05-08           2023-06-06 2025-12-30\n",
       "9822     2023-08-28           2023-09-06 2025-12-23\n",
       "3267     2023-11-29           2024-03-05 2025-12-16\n",
       "687      2023-04-25           2023-09-28 2025-11-29\n",
       "4229     2023-11-06           2023-11-28 2025-11-01\n",
       "1219     2023-12-01           2024-03-21 2025-09-27\n",
       "8285     2023-08-02           2023-10-25 2025-09-22\n",
       "3965     2023-12-25           2024-01-25 2025-09-20\n",
       "6105     2023-12-06           2024-01-09 2025-08-30\n",
       "7348     2023-09-27           2023-10-22 2025-08-12\n",
       "2022     2022-12-18           2023-05-14 2025-07-28\n",
       "6853     2023-11-26           2024-01-19 2025-07-19\n",
       "9547     2023-04-26           2023-05-06 2025-06-17"
      ]
     },
     "execution_count": 59,
     "metadata": {},
     "output_type": "execute_result"
    }
   ],
   "source": [
    "#lets first get todays date\n",
    "today = pd.to_datetime('today')\n",
    "today\n",
    "\n",
    "# we now check if any date exceeds today\n",
    "date_columns = ['Diagnosis_Date', 'Treatment_Start_Date', 'Death_Date']\n",
    "date_exceeds_today = (cancer_v2[date_columns] > today).any(axis=1)\n",
    "\n",
    "# Display only those columns for rows where any date exceeds today\n",
    "sorted_dates = cancer_v2.loc[date_exceeds_today, date_columns].sort_values(by=['Death_Date','Diagnosis_Date','Treatment_Start_Date'],ascending=False)\n",
    "sorted_dates\n",
    "\n"
   ]
  },
  {
   "cell_type": "code",
   "execution_count": 60,
   "id": "d69632fc",
   "metadata": {
    "execution": {
     "iopub.execute_input": "2025-05-31T09:59:36.855895Z",
     "iopub.status.busy": "2025-05-31T09:59:36.855582Z",
     "iopub.status.idle": "2025-05-31T09:59:36.860953Z",
     "shell.execute_reply": "2025-05-31T09:59:36.860182Z"
    },
    "papermill": {
     "duration": 0.036351,
     "end_time": "2025-05-31T09:59:36.862526",
     "exception": false,
     "start_time": "2025-05-31T09:59:36.826175",
     "status": "completed"
    },
    "tags": []
   },
   "outputs": [
    {
     "data": {
      "text/plain": [
       "(21, 3)"
      ]
     },
     "execution_count": 60,
     "metadata": {},
     "output_type": "execute_result"
    }
   ],
   "source": [
    "#WE CHECK THE NUMBER OF ROWS WITH DATES THAT EXCEED TODAY\n",
    "sorted_dates.shape"
   ]
  },
  {
   "cell_type": "markdown",
   "id": "ae82dde2",
   "metadata": {
    "papermill": {
     "duration": 0.030744,
     "end_time": "2025-05-31T09:59:36.922299",
     "exception": false,
     "start_time": "2025-05-31T09:59:36.891555",
     "status": "completed"
    },
    "tags": []
   },
   "source": [
    "**SO ABOVE WE CAN SEE THAT THERE ARE 35 ROWS WITH DATE BEYONG TODAY AS AT THE TIME OF THIS ANALYSIS**"
   ]
  },
  {
   "cell_type": "markdown",
   "id": "088864df",
   "metadata": {
    "papermill": {
     "duration": 0.032756,
     "end_time": "2025-05-31T09:59:36.991718",
     "exception": false,
     "start_time": "2025-05-31T09:59:36.958962",
     "status": "completed"
    },
    "tags": []
   },
   "source": [
    "**WE USE A MORE SMARTER APPROACH FOR THE DATES THAT EXCEED TODAY'S DAY THAT IS IF WE want to make the filtering even more general and scalable, we could use today's date directly to filter out any Death_Date that exceeds today's date**\n",
    "\n",
    "**This way, if someone runs the codes in 2030, it still works without needing manual year checks.**"
   ]
  },
  {
   "cell_type": "code",
   "execution_count": 61,
   "id": "51f756fa",
   "metadata": {
    "execution": {
     "iopub.execute_input": "2025-05-31T09:59:37.054220Z",
     "iopub.status.busy": "2025-05-31T09:59:37.053911Z",
     "iopub.status.idle": "2025-05-31T09:59:37.069272Z",
     "shell.execute_reply": "2025-05-31T09:59:37.068199Z"
    },
    "papermill": {
     "duration": 0.048488,
     "end_time": "2025-05-31T09:59:37.070957",
     "exception": false,
     "start_time": "2025-05-31T09:59:37.022469",
     "status": "completed"
    },
    "tags": []
   },
   "outputs": [
    {
     "data": {
      "application/vnd.microsoft.datawrangler.viewer.v0+json": {
       "columns": [
        {
         "name": "index",
         "rawType": "int64",
         "type": "integer"
        },
        {
         "name": "Death_Date",
         "rawType": "datetime64[ns]",
         "type": "datetime"
        }
       ],
       "ref": "94a107ee-7951-46f3-b51a-202e4b11d56e",
       "rows": [
        [
         "8672",
         "2025-05-29 00:00:00"
        ],
        [
         "6896",
         "2025-05-28 00:00:00"
        ],
        [
         "9837",
         "2025-05-23 00:00:00"
        ],
        [
         "2831",
         "2025-05-21 00:00:00"
        ],
        [
         "5292",
         "2025-05-14 00:00:00"
        ],
        [
         "7028",
         "2025-04-30 00:00:00"
        ],
        [
         "993",
         "2025-04-28 00:00:00"
        ],
        [
         "585",
         "2025-04-09 00:00:00"
        ],
        [
         "2832",
         "2025-03-28 00:00:00"
        ],
        [
         "2213",
         "2025-03-21 00:00:00"
        ],
        [
         "8863",
         "2025-03-16 00:00:00"
        ],
        [
         "395",
         "2025-02-23 00:00:00"
        ],
        [
         "7126",
         "2025-02-23 00:00:00"
        ],
        [
         "9806",
         "2025-02-21 00:00:00"
        ],
        [
         "5917",
         "2025-02-11 00:00:00"
        ],
        [
         "2626",
         "2025-02-06 00:00:00"
        ],
        [
         "4973",
         "2025-02-01 00:00:00"
        ],
        [
         "5561",
         "2025-01-30 00:00:00"
        ],
        [
         "7690",
         "2025-01-18 00:00:00"
        ],
        [
         "7353",
         "2025-01-14 00:00:00"
        ],
        [
         "1636",
         "2025-01-04 00:00:00"
        ],
        [
         "245",
         "2024-12-11 00:00:00"
        ],
        [
         "5308",
         "2024-12-10 00:00:00"
        ],
        [
         "3813",
         "2024-12-06 00:00:00"
        ],
        [
         "2842",
         "2024-11-29 00:00:00"
        ],
        [
         "379",
         "2024-11-12 00:00:00"
        ],
        [
         "7030",
         "2024-11-09 00:00:00"
        ],
        [
         "8959",
         "2024-11-04 00:00:00"
        ],
        [
         "497",
         "2024-10-30 00:00:00"
        ],
        [
         "561",
         "2024-10-25 00:00:00"
        ],
        [
         "8067",
         "2024-10-22 00:00:00"
        ],
        [
         "2552",
         "2024-09-22 00:00:00"
        ],
        [
         "9681",
         "2024-09-12 00:00:00"
        ],
        [
         "6701",
         "2024-08-27 00:00:00"
        ],
        [
         "2342",
         "2024-08-19 00:00:00"
        ],
        [
         "6617",
         "2024-08-15 00:00:00"
        ],
        [
         "4963",
         "2024-08-05 00:00:00"
        ],
        [
         "4996",
         "2024-07-20 00:00:00"
        ],
        [
         "821",
         "2024-07-19 00:00:00"
        ],
        [
         "6169",
         "2024-07-06 00:00:00"
        ],
        [
         "5899",
         "2024-06-23 00:00:00"
        ],
        [
         "7291",
         "2024-06-19 00:00:00"
        ],
        [
         "7095",
         "2024-06-14 00:00:00"
        ],
        [
         "7391",
         "2024-06-11 00:00:00"
        ],
        [
         "729",
         "2024-06-09 00:00:00"
        ],
        [
         "9665",
         "2024-05-23 00:00:00"
        ],
        [
         "4149",
         "2024-04-26 00:00:00"
        ],
        [
         "8577",
         "2024-04-24 00:00:00"
        ],
        [
         "5320",
         "2024-04-15 00:00:00"
        ],
        [
         "5040",
         "2024-04-08 00:00:00"
        ]
       ],
       "shape": {
        "columns": 1,
        "rows": 501
       }
      },
      "text/plain": [
       "8672   2025-05-29\n",
       "6896   2025-05-28\n",
       "9837   2025-05-23\n",
       "2831   2025-05-21\n",
       "5292   2025-05-14\n",
       "          ...    \n",
       "5432   2015-08-18\n",
       "7976   2015-07-15\n",
       "2229   2015-07-11\n",
       "7636   2015-05-24\n",
       "1094   2015-04-24\n",
       "Name: Death_Date, Length: 501, dtype: datetime64[ns]"
      ]
     },
     "execution_count": 61,
     "metadata": {},
     "output_type": "execute_result"
    }
   ],
   "source": [
    "# Keep only valid death dates (in the past or today) and we create a new version of our dataset\n",
    "cancer_v3 = cancer_v2[ (cancer_v2['Death_Date'].isna()) | (cancer_v2['Death_Date'] <= today) ].copy()\n",
    "\n",
    "#sort death date to make sure its within time\n",
    "cancer_v3['Death_Date'].sort_values(ascending=False)\n"
   ]
  },
  {
   "cell_type": "markdown",
   "id": "e000a34a",
   "metadata": {
    "papermill": {
     "duration": 0.031417,
     "end_time": "2025-05-31T09:59:37.198623",
     "exception": false,
     "start_time": "2025-05-31T09:59:37.167206",
     "status": "completed"
    },
    "tags": []
   },
   "source": [
    "✅ Next Steps in Cleaning:\n",
    "\n",
    "Check for missing values across all features.\n",
    "\n",
    "Clean Comorbidities, Cause_of_Death, and Outcome (if needed).\n",
    "\n",
    "Handle duplicate entries.\n",
    "\n",
    "Calculate new features like:\n",
    "\n",
    "Survival_Days: from diagnosis to either death or today\n",
    "\n",
    "BMI: from height and weight"
   ]
  },
  {
   "cell_type": "code",
   "execution_count": 66,
   "id": "948475d9",
   "metadata": {},
   "outputs": [
    {
     "name": "stdout",
     "output_type": "stream",
     "text": [
      "Missing values in the dataset:\n",
      "Series([], dtype: int64)\n"
     ]
    }
   ],
   "source": [
    "# Check for missing values in can_v1\n",
    "missing_data = cancer_v3.isnull().sum().sort_values(ascending=False)\n",
    "missing_data = missing_data[missing_data > 0]  # Only show columns with missing values\n",
    "\n",
    "print(\"Missing values in the dataset:\")\n",
    "print(missing_data)\n",
    "# Display the percentage of missing values\n",
    "missing_percentage = (missing_data / len(cancer_v3)) * 100\n",
    "missing_percentage = missing_percentage[missing_percentage > 0]  # Only show columns with missing values\n",
    " "
   ]
  },
  {
   "cell_type": "code",
   "execution_count": 68,
   "id": "5ccef786",
   "metadata": {},
   "outputs": [
    {
     "data": {
      "text/plain": [
       "np.int64(0)"
      ]
     },
     "execution_count": 68,
     "metadata": {},
     "output_type": "execute_result"
    }
   ],
   "source": [
    "cancer_v3['Comorbidities'] = cancer_v3['Comorbidities'].fillna('None Reported')  # Fill Comorbidities missing values with 'None Reported'\n",
    "cancer_v3['Comorbidities'].isna().sum()  # Check if there are still any missing values in 'Comorbidities'"
   ]
  },
  {
   "cell_type": "markdown",
   "id": "8409c825",
   "metadata": {},
   "source": [
    "1. We create \"Is_Dead\" Column\n",
    "This will simply be:\n",
    "\n",
    "'True' if there's a death date\n",
    "\n",
    "'False' if death date is missing (NaT)"
   ]
  },
  {
   "cell_type": "code",
   "execution_count": 69,
   "id": "14d04757",
   "metadata": {},
   "outputs": [
    {
     "data": {
      "application/vnd.microsoft.datawrangler.viewer.v0+json": {
       "columns": [
        {
         "name": "index",
         "rawType": "int64",
         "type": "integer"
        },
        {
         "name": "Is_Dead",
         "rawType": "bool",
         "type": "boolean"
        }
       ],
       "ref": "c471c372-7b1e-4556-8522-6fb6d76f35c6",
       "rows": [
        [
         "17",
         "True"
        ],
        [
         "54",
         "True"
        ],
        [
         "67",
         "True"
        ],
        [
         "85",
         "True"
        ],
        [
         "91",
         "True"
        ],
        [
         "111",
         "True"
        ],
        [
         "127",
         "True"
        ],
        [
         "154",
         "True"
        ],
        [
         "165",
         "True"
        ],
        [
         "170",
         "True"
        ],
        [
         "193",
         "True"
        ],
        [
         "196",
         "True"
        ],
        [
         "226",
         "True"
        ],
        [
         "245",
         "True"
        ],
        [
         "261",
         "True"
        ],
        [
         "326",
         "True"
        ],
        [
         "329",
         "True"
        ],
        [
         "331",
         "True"
        ],
        [
         "333",
         "True"
        ],
        [
         "335",
         "True"
        ],
        [
         "345",
         "True"
        ],
        [
         "360",
         "True"
        ],
        [
         "364",
         "True"
        ],
        [
         "369",
         "True"
        ],
        [
         "379",
         "True"
        ],
        [
         "395",
         "True"
        ],
        [
         "401",
         "True"
        ],
        [
         "408",
         "True"
        ],
        [
         "416",
         "True"
        ],
        [
         "426",
         "True"
        ],
        [
         "431",
         "True"
        ],
        [
         "435",
         "True"
        ],
        [
         "465",
         "True"
        ],
        [
         "475",
         "True"
        ],
        [
         "497",
         "True"
        ],
        [
         "498",
         "True"
        ],
        [
         "503",
         "True"
        ],
        [
         "544",
         "True"
        ],
        [
         "561",
         "True"
        ],
        [
         "562",
         "True"
        ],
        [
         "585",
         "True"
        ],
        [
         "586",
         "True"
        ],
        [
         "609",
         "True"
        ],
        [
         "634",
         "True"
        ],
        [
         "668",
         "True"
        ],
        [
         "670",
         "True"
        ],
        [
         "671",
         "True"
        ],
        [
         "683",
         "True"
        ],
        [
         "699",
         "True"
        ],
        [
         "703",
         "True"
        ]
       ],
       "shape": {
        "columns": 1,
        "rows": 501
       }
      },
      "text/plain": [
       "17      True\n",
       "54      True\n",
       "67      True\n",
       "85      True\n",
       "91      True\n",
       "        ... \n",
       "9958    True\n",
       "9964    True\n",
       "9979    True\n",
       "9982    True\n",
       "9991    True\n",
       "Name: Is_Dead, Length: 501, dtype: bool"
      ]
     },
     "execution_count": 69,
     "metadata": {},
     "output_type": "execute_result"
    }
   ],
   "source": [
    "cancer_v3['Is_Dead'] = ~cancer_v3['Death_Date'].isna()\n",
    "cancer_v3['Is_Dead']\n",
    "# Check if there are still any missing values in 'Is_Dead'"
   ]
  },
  {
   "cell_type": "markdown",
   "id": "3441b03b",
   "metadata": {},
   "source": [
    "2. Survival_Days Column\n",
    "This will calculate:\n",
    "\n",
    "The difference between Death_Date and Diagnosis_Date\n"
   ]
  },
  {
   "cell_type": "code",
   "execution_count": 70,
   "id": "71cb3700",
   "metadata": {},
   "outputs": [],
   "source": [
    "# Convert 'Death_Date' and 'Diagnosis_Date' to datetime format\n",
    "cancer_v3['Death_Date'] = pd.to_datetime(cancer_v3['Death_Date'], errors='coerce')\n",
    "cancer_v3['Diagnosis_Date'] = pd.to_datetime(cancer_v3['Diagnosis_Date'], errors='coerce')"
   ]
  },
  {
   "cell_type": "markdown",
   "id": "6043779b",
   "metadata": {},
   "source": [
    "3. Calculate survival days (for those who have both Diagnosis and Death dates)"
   ]
  },
  {
   "cell_type": "code",
   "execution_count": null,
   "id": "9df0505c",
   "metadata": {},
   "outputs": [
    {
     "data": {
      "application/vnd.microsoft.datawrangler.viewer.v0+json": {
       "columns": [
        {
         "name": "index",
         "rawType": "int64",
         "type": "integer"
        },
        {
         "name": "Survival_Days",
         "rawType": "int64",
         "type": "integer"
        }
       ],
       "ref": "c61fe0cc-5562-4ba8-89a7-3db833377935",
       "rows": [
        [
         "17",
         "203"
        ],
        [
         "54",
         "395"
        ],
        [
         "67",
         "829"
        ],
        [
         "85",
         "857"
        ],
        [
         "91",
         "155"
        ],
        [
         "111",
         "157"
        ],
        [
         "127",
         "516"
        ],
        [
         "154",
         "783"
        ],
        [
         "165",
         "490"
        ],
        [
         "170",
         "201"
        ],
        [
         "193",
         "364"
        ],
        [
         "196",
         "633"
        ],
        [
         "226",
         "933"
        ],
        [
         "245",
         "364"
        ],
        [
         "261",
         "452"
        ],
        [
         "326",
         "49"
        ],
        [
         "329",
         "905"
        ],
        [
         "331",
         "554"
        ],
        [
         "333",
         "585"
        ],
        [
         "335",
         "586"
        ],
        [
         "345",
         "332"
        ],
        [
         "360",
         "562"
        ],
        [
         "364",
         "908"
        ],
        [
         "369",
         "436"
        ],
        [
         "379",
         "800"
        ],
        [
         "395",
         "755"
        ],
        [
         "401",
         "634"
        ],
        [
         "408",
         "453"
        ],
        [
         "416",
         "477"
        ],
        [
         "426",
         "374"
        ],
        [
         "431",
         "177"
        ],
        [
         "435",
         "179"
        ],
        [
         "465",
         "61"
        ],
        [
         "475",
         "402"
        ],
        [
         "497",
         "996"
        ],
        [
         "498",
         "293"
        ],
        [
         "503",
         "808"
        ],
        [
         "544",
         "998"
        ],
        [
         "561",
         "993"
        ],
        [
         "562",
         "744"
        ],
        [
         "585",
         "807"
        ],
        [
         "586",
         "280"
        ],
        [
         "609",
         "506"
        ],
        [
         "634",
         "582"
        ],
        [
         "668",
         "493"
        ],
        [
         "670",
         "902"
        ],
        [
         "671",
         "613"
        ],
        [
         "683",
         "313"
        ],
        [
         "699",
         "607"
        ],
        [
         "703",
         "347"
        ]
       ],
       "shape": {
        "columns": 1,
        "rows": 501
       }
      },
      "text/plain": [
       "17      203\n",
       "54      395\n",
       "67      829\n",
       "85      857\n",
       "91      155\n",
       "       ... \n",
       "9958    685\n",
       "9964    357\n",
       "9979    564\n",
       "9982    475\n",
       "9991    457\n",
       "Name: Survival_Days, Length: 501, dtype: int64"
      ]
     },
     "execution_count": 73,
     "metadata": {},
     "output_type": "execute_result"
    }
   ],
   "source": [
    "cancer_v3['Survival_Days'] = (cancer_v3['Death_Date'] - cancer_v3['Diagnosis_Date']).dt.days\n"
   ]
  },
  {
   "cell_type": "markdown",
   "id": "780a00f7",
   "metadata": {},
   "source": [
    " 4. Display the relevant columns to check the calculations\n"
   ]
  },
  {
   "cell_type": "code",
   "execution_count": 74,
   "id": "875be02b",
   "metadata": {},
   "outputs": [
    {
     "data": {
      "application/vnd.microsoft.datawrangler.viewer.v0+json": {
       "columns": [
        {
         "name": "index",
         "rawType": "int64",
         "type": "integer"
        },
        {
         "name": "Diagnosis_Date",
         "rawType": "datetime64[ns]",
         "type": "datetime"
        },
        {
         "name": "Death_Date",
         "rawType": "datetime64[ns]",
         "type": "datetime"
        },
        {
         "name": "Survival_Days",
         "rawType": "int64",
         "type": "integer"
        },
        {
         "name": "Is_Dead",
         "rawType": "bool",
         "type": "boolean"
        }
       ],
       "ref": "8354433d-5608-4af4-9f2f-1ae7be469a85",
       "rows": [
        [
         "17",
         "2022-01-10 00:00:00",
         "2022-08-01 00:00:00",
         "203",
         "True"
        ],
        [
         "54",
         "2022-04-18 00:00:00",
         "2023-05-18 00:00:00",
         "395",
         "True"
        ],
        [
         "67",
         "2020-04-21 00:00:00",
         "2022-07-29 00:00:00",
         "829",
         "True"
        ],
        [
         "85",
         "2015-12-10 00:00:00",
         "2018-04-15 00:00:00",
         "857",
         "True"
        ],
        [
         "91",
         "2020-04-16 00:00:00",
         "2020-09-18 00:00:00",
         "155",
         "True"
        ],
        [
         "111",
         "2017-12-03 00:00:00",
         "2018-05-09 00:00:00",
         "157",
         "True"
        ],
        [
         "127",
         "2019-02-10 00:00:00",
         "2020-07-10 00:00:00",
         "516",
         "True"
        ],
        [
         "154",
         "2018-06-07 00:00:00",
         "2020-07-29 00:00:00",
         "783",
         "True"
        ],
        [
         "165",
         "2017-01-24 00:00:00",
         "2018-05-29 00:00:00",
         "490",
         "True"
        ],
        [
         "170",
         "2021-10-05 00:00:00",
         "2022-04-24 00:00:00",
         "201",
         "True"
        ],
        [
         "193",
         "2016-09-28 00:00:00",
         "2017-09-27 00:00:00",
         "364",
         "True"
        ],
        [
         "196",
         "2016-06-08 00:00:00",
         "2018-03-03 00:00:00",
         "633",
         "True"
        ],
        [
         "226",
         "2015-11-08 00:00:00",
         "2018-05-29 00:00:00",
         "933",
         "True"
        ],
        [
         "245",
         "2023-12-13 00:00:00",
         "2024-12-11 00:00:00",
         "364",
         "True"
        ],
        [
         "261",
         "2021-08-24 00:00:00",
         "2022-11-19 00:00:00",
         "452",
         "True"
        ],
        [
         "326",
         "2016-04-06 00:00:00",
         "2016-05-25 00:00:00",
         "49",
         "True"
        ],
        [
         "329",
         "2020-03-22 00:00:00",
         "2022-09-13 00:00:00",
         "905",
         "True"
        ],
        [
         "331",
         "2020-01-30 00:00:00",
         "2021-08-06 00:00:00",
         "554",
         "True"
        ],
        [
         "333",
         "2016-10-01 00:00:00",
         "2018-05-09 00:00:00",
         "585",
         "True"
        ],
        [
         "335",
         "2016-04-26 00:00:00",
         "2017-12-03 00:00:00",
         "586",
         "True"
        ],
        [
         "345",
         "2019-06-09 00:00:00",
         "2020-05-06 00:00:00",
         "332",
         "True"
        ],
        [
         "360",
         "2016-04-20 00:00:00",
         "2017-11-03 00:00:00",
         "562",
         "True"
        ],
        [
         "364",
         "2017-06-12 00:00:00",
         "2019-12-07 00:00:00",
         "908",
         "True"
        ],
        [
         "369",
         "2016-10-27 00:00:00",
         "2018-01-06 00:00:00",
         "436",
         "True"
        ],
        [
         "379",
         "2022-09-04 00:00:00",
         "2024-11-12 00:00:00",
         "800",
         "True"
        ],
        [
         "395",
         "2023-01-30 00:00:00",
         "2025-02-23 00:00:00",
         "755",
         "True"
        ],
        [
         "401",
         "2020-11-20 00:00:00",
         "2022-08-16 00:00:00",
         "634",
         "True"
        ],
        [
         "408",
         "2022-06-07 00:00:00",
         "2023-09-03 00:00:00",
         "453",
         "True"
        ],
        [
         "416",
         "2022-03-15 00:00:00",
         "2023-07-05 00:00:00",
         "477",
         "True"
        ],
        [
         "426",
         "2016-12-02 00:00:00",
         "2017-12-11 00:00:00",
         "374",
         "True"
        ],
        [
         "431",
         "2023-06-30 00:00:00",
         "2023-12-24 00:00:00",
         "177",
         "True"
        ],
        [
         "435",
         "2023-04-22 00:00:00",
         "2023-10-18 00:00:00",
         "179",
         "True"
        ],
        [
         "465",
         "2017-11-29 00:00:00",
         "2018-01-29 00:00:00",
         "61",
         "True"
        ],
        [
         "475",
         "2016-04-24 00:00:00",
         "2017-05-31 00:00:00",
         "402",
         "True"
        ],
        [
         "497",
         "2022-02-07 00:00:00",
         "2024-10-30 00:00:00",
         "996",
         "True"
        ],
        [
         "498",
         "2017-02-22 00:00:00",
         "2017-12-12 00:00:00",
         "293",
         "True"
        ],
        [
         "503",
         "2021-01-07 00:00:00",
         "2023-03-26 00:00:00",
         "808",
         "True"
        ],
        [
         "544",
         "2020-02-27 00:00:00",
         "2022-11-21 00:00:00",
         "998",
         "True"
        ],
        [
         "561",
         "2022-02-05 00:00:00",
         "2024-10-25 00:00:00",
         "993",
         "True"
        ],
        [
         "562",
         "2021-09-12 00:00:00",
         "2023-09-26 00:00:00",
         "744",
         "True"
        ],
        [
         "585",
         "2023-01-23 00:00:00",
         "2025-04-09 00:00:00",
         "807",
         "True"
        ],
        [
         "586",
         "2016-12-08 00:00:00",
         "2017-09-14 00:00:00",
         "280",
         "True"
        ],
        [
         "609",
         "2015-12-13 00:00:00",
         "2017-05-02 00:00:00",
         "506",
         "True"
        ],
        [
         "634",
         "2017-12-22 00:00:00",
         "2019-07-27 00:00:00",
         "582",
         "True"
        ],
        [
         "668",
         "2018-06-25 00:00:00",
         "2019-10-31 00:00:00",
         "493",
         "True"
        ],
        [
         "670",
         "2020-01-08 00:00:00",
         "2022-06-28 00:00:00",
         "902",
         "True"
        ],
        [
         "671",
         "2019-11-18 00:00:00",
         "2021-07-23 00:00:00",
         "613",
         "True"
        ],
        [
         "683",
         "2022-10-04 00:00:00",
         "2023-08-13 00:00:00",
         "313",
         "True"
        ],
        [
         "699",
         "2018-12-06 00:00:00",
         "2020-08-04 00:00:00",
         "607",
         "True"
        ],
        [
         "703",
         "2019-10-20 00:00:00",
         "2020-10-01 00:00:00",
         "347",
         "True"
        ]
       ],
       "shape": {
        "columns": 4,
        "rows": 501
       }
      },
      "text/html": [
       "<div>\n",
       "<style scoped>\n",
       "    .dataframe tbody tr th:only-of-type {\n",
       "        vertical-align: middle;\n",
       "    }\n",
       "\n",
       "    .dataframe tbody tr th {\n",
       "        vertical-align: top;\n",
       "    }\n",
       "\n",
       "    .dataframe thead th {\n",
       "        text-align: right;\n",
       "    }\n",
       "</style>\n",
       "<table border=\"1\" class=\"dataframe\">\n",
       "  <thead>\n",
       "    <tr style=\"text-align: right;\">\n",
       "      <th></th>\n",
       "      <th>Diagnosis_Date</th>\n",
       "      <th>Death_Date</th>\n",
       "      <th>Survival_Days</th>\n",
       "      <th>Is_Dead</th>\n",
       "    </tr>\n",
       "  </thead>\n",
       "  <tbody>\n",
       "    <tr>\n",
       "      <th>17</th>\n",
       "      <td>2022-01-10</td>\n",
       "      <td>2022-08-01</td>\n",
       "      <td>203</td>\n",
       "      <td>True</td>\n",
       "    </tr>\n",
       "    <tr>\n",
       "      <th>54</th>\n",
       "      <td>2022-04-18</td>\n",
       "      <td>2023-05-18</td>\n",
       "      <td>395</td>\n",
       "      <td>True</td>\n",
       "    </tr>\n",
       "    <tr>\n",
       "      <th>67</th>\n",
       "      <td>2020-04-21</td>\n",
       "      <td>2022-07-29</td>\n",
       "      <td>829</td>\n",
       "      <td>True</td>\n",
       "    </tr>\n",
       "    <tr>\n",
       "      <th>85</th>\n",
       "      <td>2015-12-10</td>\n",
       "      <td>2018-04-15</td>\n",
       "      <td>857</td>\n",
       "      <td>True</td>\n",
       "    </tr>\n",
       "    <tr>\n",
       "      <th>91</th>\n",
       "      <td>2020-04-16</td>\n",
       "      <td>2020-09-18</td>\n",
       "      <td>155</td>\n",
       "      <td>True</td>\n",
       "    </tr>\n",
       "    <tr>\n",
       "      <th>...</th>\n",
       "      <td>...</td>\n",
       "      <td>...</td>\n",
       "      <td>...</td>\n",
       "      <td>...</td>\n",
       "    </tr>\n",
       "    <tr>\n",
       "      <th>9958</th>\n",
       "      <td>2019-12-10</td>\n",
       "      <td>2021-10-25</td>\n",
       "      <td>685</td>\n",
       "      <td>True</td>\n",
       "    </tr>\n",
       "    <tr>\n",
       "      <th>9964</th>\n",
       "      <td>2016-06-07</td>\n",
       "      <td>2017-05-30</td>\n",
       "      <td>357</td>\n",
       "      <td>True</td>\n",
       "    </tr>\n",
       "    <tr>\n",
       "      <th>9979</th>\n",
       "      <td>2018-01-15</td>\n",
       "      <td>2019-08-02</td>\n",
       "      <td>564</td>\n",
       "      <td>True</td>\n",
       "    </tr>\n",
       "    <tr>\n",
       "      <th>9982</th>\n",
       "      <td>2019-06-21</td>\n",
       "      <td>2020-10-08</td>\n",
       "      <td>475</td>\n",
       "      <td>True</td>\n",
       "    </tr>\n",
       "    <tr>\n",
       "      <th>9991</th>\n",
       "      <td>2022-02-14</td>\n",
       "      <td>2023-05-17</td>\n",
       "      <td>457</td>\n",
       "      <td>True</td>\n",
       "    </tr>\n",
       "  </tbody>\n",
       "</table>\n",
       "<p>501 rows × 4 columns</p>\n",
       "</div>"
      ],
      "text/plain": [
       "     Diagnosis_Date Death_Date  Survival_Days  Is_Dead\n",
       "17       2022-01-10 2022-08-01            203     True\n",
       "54       2022-04-18 2023-05-18            395     True\n",
       "67       2020-04-21 2022-07-29            829     True\n",
       "85       2015-12-10 2018-04-15            857     True\n",
       "91       2020-04-16 2020-09-18            155     True\n",
       "...             ...        ...            ...      ...\n",
       "9958     2019-12-10 2021-10-25            685     True\n",
       "9964     2016-06-07 2017-05-30            357     True\n",
       "9979     2018-01-15 2019-08-02            564     True\n",
       "9982     2019-06-21 2020-10-08            475     True\n",
       "9991     2022-02-14 2023-05-17            457     True\n",
       "\n",
       "[501 rows x 4 columns]"
      ]
     },
     "execution_count": 74,
     "metadata": {},
     "output_type": "execute_result"
    }
   ],
   "source": [
    "cancer_v3[['Diagnosis_Date', 'Death_Date', 'Survival_Days', 'Is_Dead']]"
   ]
  },
  {
   "cell_type": "markdown",
   "id": "7af8005e",
   "metadata": {},
   "source": [
    "**#MORE INSIGHTFUL UPDATE COMING SOON KINDLY CHECK BACK SOON**"
   ]
  }
 ],
 "metadata": {
  "kaggle": {
   "accelerator": "none",
   "dataSources": [
    {
     "datasetId": 6918426,
     "sourceId": 11098481,
     "sourceType": "datasetVersion"
    }
   ],
   "dockerImageVersionId": 31012,
   "isGpuEnabled": false,
   "isInternetEnabled": true,
   "language": "python",
   "sourceType": "notebook"
  },
  "kernelspec": {
   "display_name": "Python 3",
   "language": "python",
   "name": "python3"
  },
  "language_info": {
   "codemirror_mode": {
    "name": "ipython",
    "version": 3
   },
   "file_extension": ".py",
   "mimetype": "text/x-python",
   "name": "python",
   "nbconvert_exporter": "python",
   "pygments_lexer": "ipython3",
   "version": "3.13.2"
  },
  "papermill": {
   "default_parameters": {},
   "duration": 20.645662,
   "end_time": "2025-05-31T09:59:37.951369",
   "environment_variables": {},
   "exception": null,
   "input_path": "__notebook__.ipynb",
   "output_path": "__notebook__.ipynb",
   "parameters": {},
   "start_time": "2025-05-31T09:59:17.305707",
   "version": "2.6.0"
  }
 },
 "nbformat": 4,
 "nbformat_minor": 5
}
